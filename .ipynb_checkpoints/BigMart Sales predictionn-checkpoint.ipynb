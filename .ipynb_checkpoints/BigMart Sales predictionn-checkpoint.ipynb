{
 "cells": [
  {
   "cell_type": "code",
   "execution_count": 1,
   "metadata": {},
   "outputs": [],
   "source": [
    "import numpy as np\n",
    "import pandas as pd\n",
    "from matplotlib import pyplot as plt\n"
   ]
  },
  {
   "cell_type": "code",
   "execution_count": 2,
   "metadata": {},
   "outputs": [],
   "source": [
    "sales_train = pd.read_csv('sales_train.csv')\n",
    "sales_test  = pd.read_csv('sales_test.csv')\n"
   ]
  },
  {
   "cell_type": "code",
   "execution_count": 3,
   "metadata": {},
   "outputs": [
    {
     "data": {
      "text/html": [
       "<div>\n",
       "<style scoped>\n",
       "    .dataframe tbody tr th:only-of-type {\n",
       "        vertical-align: middle;\n",
       "    }\n",
       "\n",
       "    .dataframe tbody tr th {\n",
       "        vertical-align: top;\n",
       "    }\n",
       "\n",
       "    .dataframe thead th {\n",
       "        text-align: right;\n",
       "    }\n",
       "</style>\n",
       "<table border=\"1\" class=\"dataframe\">\n",
       "  <thead>\n",
       "    <tr style=\"text-align: right;\">\n",
       "      <th></th>\n",
       "      <th>Item_Identifier</th>\n",
       "      <th>Item_Weight</th>\n",
       "      <th>Item_Fat_Content</th>\n",
       "      <th>Item_Visibility</th>\n",
       "      <th>Item_Type</th>\n",
       "      <th>Item_MRP</th>\n",
       "      <th>Outlet_Identifier</th>\n",
       "      <th>Outlet_Establishment_Year</th>\n",
       "      <th>Outlet_Size</th>\n",
       "      <th>Outlet_Location_Type</th>\n",
       "      <th>Outlet_Type</th>\n",
       "      <th>Item_Outlet_Sales</th>\n",
       "    </tr>\n",
       "  </thead>\n",
       "  <tbody>\n",
       "    <tr>\n",
       "      <th>0</th>\n",
       "      <td>FDA15</td>\n",
       "      <td>9.30</td>\n",
       "      <td>Low Fat</td>\n",
       "      <td>0.016047</td>\n",
       "      <td>Dairy</td>\n",
       "      <td>249.8092</td>\n",
       "      <td>OUT049</td>\n",
       "      <td>1999</td>\n",
       "      <td>Medium</td>\n",
       "      <td>Tier 1</td>\n",
       "      <td>Supermarket Type1</td>\n",
       "      <td>3735.1380</td>\n",
       "    </tr>\n",
       "    <tr>\n",
       "      <th>1</th>\n",
       "      <td>DRC01</td>\n",
       "      <td>5.92</td>\n",
       "      <td>Regular</td>\n",
       "      <td>0.019278</td>\n",
       "      <td>Soft Drinks</td>\n",
       "      <td>48.2692</td>\n",
       "      <td>OUT018</td>\n",
       "      <td>2009</td>\n",
       "      <td>Medium</td>\n",
       "      <td>Tier 3</td>\n",
       "      <td>Supermarket Type2</td>\n",
       "      <td>443.4228</td>\n",
       "    </tr>\n",
       "    <tr>\n",
       "      <th>2</th>\n",
       "      <td>FDN15</td>\n",
       "      <td>17.50</td>\n",
       "      <td>Low Fat</td>\n",
       "      <td>0.016760</td>\n",
       "      <td>Meat</td>\n",
       "      <td>141.6180</td>\n",
       "      <td>OUT049</td>\n",
       "      <td>1999</td>\n",
       "      <td>Medium</td>\n",
       "      <td>Tier 1</td>\n",
       "      <td>Supermarket Type1</td>\n",
       "      <td>2097.2700</td>\n",
       "    </tr>\n",
       "    <tr>\n",
       "      <th>3</th>\n",
       "      <td>FDX07</td>\n",
       "      <td>19.20</td>\n",
       "      <td>Regular</td>\n",
       "      <td>0.000000</td>\n",
       "      <td>Fruits and Vegetables</td>\n",
       "      <td>182.0950</td>\n",
       "      <td>OUT010</td>\n",
       "      <td>1998</td>\n",
       "      <td>NaN</td>\n",
       "      <td>Tier 3</td>\n",
       "      <td>Grocery Store</td>\n",
       "      <td>732.3800</td>\n",
       "    </tr>\n",
       "    <tr>\n",
       "      <th>4</th>\n",
       "      <td>NCD19</td>\n",
       "      <td>8.93</td>\n",
       "      <td>Low Fat</td>\n",
       "      <td>0.000000</td>\n",
       "      <td>Household</td>\n",
       "      <td>53.8614</td>\n",
       "      <td>OUT013</td>\n",
       "      <td>1987</td>\n",
       "      <td>High</td>\n",
       "      <td>Tier 3</td>\n",
       "      <td>Supermarket Type1</td>\n",
       "      <td>994.7052</td>\n",
       "    </tr>\n",
       "  </tbody>\n",
       "</table>\n",
       "</div>"
      ],
      "text/plain": [
       "  Item_Identifier  Item_Weight Item_Fat_Content  Item_Visibility  \\\n",
       "0           FDA15         9.30          Low Fat         0.016047   \n",
       "1           DRC01         5.92          Regular         0.019278   \n",
       "2           FDN15        17.50          Low Fat         0.016760   \n",
       "3           FDX07        19.20          Regular         0.000000   \n",
       "4           NCD19         8.93          Low Fat         0.000000   \n",
       "\n",
       "               Item_Type  Item_MRP Outlet_Identifier  \\\n",
       "0                  Dairy  249.8092            OUT049   \n",
       "1            Soft Drinks   48.2692            OUT018   \n",
       "2                   Meat  141.6180            OUT049   \n",
       "3  Fruits and Vegetables  182.0950            OUT010   \n",
       "4              Household   53.8614            OUT013   \n",
       "\n",
       "   Outlet_Establishment_Year Outlet_Size Outlet_Location_Type  \\\n",
       "0                       1999      Medium               Tier 1   \n",
       "1                       2009      Medium               Tier 3   \n",
       "2                       1999      Medium               Tier 1   \n",
       "3                       1998         NaN               Tier 3   \n",
       "4                       1987        High               Tier 3   \n",
       "\n",
       "         Outlet_Type  Item_Outlet_Sales  \n",
       "0  Supermarket Type1          3735.1380  \n",
       "1  Supermarket Type2           443.4228  \n",
       "2  Supermarket Type1          2097.2700  \n",
       "3      Grocery Store           732.3800  \n",
       "4  Supermarket Type1           994.7052  "
      ]
     },
     "execution_count": 3,
     "metadata": {},
     "output_type": "execute_result"
    }
   ],
   "source": [
    "sales_train.head()"
   ]
  },
  {
   "cell_type": "markdown",
   "metadata": {},
   "source": [
    "During analysis, only 2 variables had missing values : Item_Weight - 1463 , Outlet_Size - 2410\n",
    "\n",
    "categorical columns : Item_Fat_Content, Item_Type, Outlet_Size, Outlet_Location_Type, Outlet_Type,  Outlet_Establishment_Year"
   ]
  },
  {
   "cell_type": "code",
   "execution_count": 4,
   "metadata": {},
   "outputs": [],
   "source": [
    "outlet_sales = sales_train['Item_Outlet_Sales']"
   ]
  },
  {
   "cell_type": "code",
   "execution_count": 5,
   "metadata": {},
   "outputs": [],
   "source": [
    "def change_fat(content):\n",
    "    if content in ['LF','low fat','Low Fat']:\n",
    "        return 'Low Fat'\n",
    "    elif content in ['reg','Regular']:\n",
    "        return 'Regular'\n",
    "    \n",
    "sales_train['Item_Fat_Content'] = sales_train['Item_Fat_Content'].apply(change_fat)\n"
   ]
  },
  {
   "cell_type": "code",
   "execution_count": 6,
   "metadata": {},
   "outputs": [],
   "source": [
    "categorical_columns = ['Item_Fat_Content', 'Item_Type', 'Outlet_Size', 'Outlet_Location_Type', 'Outlet_Type', 'Outlet_Establishment_Year']"
   ]
  },
  {
   "cell_type": "markdown",
   "metadata": {},
   "source": [
    "# Variable Analysis\n",
    "- Examine continous variables\n",
    "- Examine categorical variables\n",
    "- Examine relationships with predicted sales values\n",
    "- Examine relationships between variables"
   ]
  },
  {
   "cell_type": "code",
   "execution_count": 7,
   "metadata": {},
   "outputs": [],
   "source": [
    "continous_columns = [var  for var in list(sales_train.columns) if var not in categorical_columns]\n",
    "continous_columns.remove('Item_Identifier')\n",
    "continous_columns.remove('Outlet_Identifier')\n",
    "continous_columns.remove('Item_Outlet_Sales')"
   ]
  },
  {
   "cell_type": "markdown",
   "metadata": {},
   "source": [
    "# Examining relationship between variables and Item_Outlet_Sales.\n",
    "it was noticed that all the continous variables in the dataset are properties of the items being sold and all categorical variables are mostly store properties.\n",
    "First, we try to figure out what causes an increased in product sales.\n",
    "\n",
    "Second, we then consider what makes the same product in sell more in the different stores."
   ]
  },
  {
   "cell_type": "code",
   "execution_count": 8,
   "metadata": {},
   "outputs": [
    {
     "data": {
      "image/png": "[encoded data removed]",
      "text/plain": [
       "<Figure size 432x288 with 1 Axes>"
      ]
     },
     "metadata": {
      "needs_background": "light"
     },
     "output_type": "display_data"
    }
   ],
   "source": [
    "plt.plot(np.log(sales_train['Item_MRP']),outlet_sales,'.')\n",
    "plt.grid(True)\n",
    "plt.show()\n"
   ]
  },
  {
   "cell_type": "code",
   "execution_count": 9,
   "metadata": {},
   "outputs": [
    {
     "data": {
      "image/png": "[encoded data removed]",
      "text/plain": [
       "<Figure size 432x288 with 1 Axes>"
      ]
     },
     "metadata": {
      "needs_background": "light"
     },
     "output_type": "display_data"
    }
   ],
   "source": [
    "plt.plot(sales_train['Item_MRP'],outlet_sales,'.')\n",
    "plt.grid(True)\n",
    "plt.show()"
   ]
  },
  {
   "cell_type": "code",
   "execution_count": 10,
   "metadata": {},
   "outputs": [],
   "source": [
    "from ipywidgets import interact\n",
    "product = sales_train.groupby('Item_Identifier')\n",
    "sales = product['Item_Outlet_Sales'].mean()\n",
    "product_features = pd.DataFrame([product[column].mean() for column in continous_columns]).T\n",
    "product_features['sales'] = sales\n"
   ]
  },
  {
   "cell_type": "code",
   "execution_count": 13,
   "metadata": {
    "scrolled": true
   },
   "outputs": [
    {
     "data": {
      "application/vnd.jupyter.widget-view+json": {
       "model_id": "756bd7ad02fd47809d6aef916059207a",
       "version_major": 2,
       "version_minor": 0
      },
      "text/plain": [
       "interactive(children=(Dropdown(description='column', options=('Item_Weight', 'Item_Visibility', 'Item_MRP'), v…"
      ]
     },
     "metadata": {},
     "output_type": "display_data"
    }
   ],
   "source": [
    "@interact\n",
    "def plot_items_props( column=continous_columns):        \n",
    "    plt.plot(sales_train[column],outlet_sales,'.',label=column)\n",
    "    plt.xlabel(column)\n",
    "    plt.ylabel('Item_Sales')\n",
    "    plt.grid(True)\n",
    "    plt.legend(loc='lower right')\n",
    "    plt.show()\n",
    "#plot_items_props('Item_Weight')"
   ]
  },
  {
   "cell_type": "markdown",
   "metadata": {},
   "source": [
    "items with sales above 4000 were in the range of 7.5 - 17.5 weight . However, most items sold below 4000 and above were well distributed among weights.\n",
    "most items had below 0.15 visibility in the stores. very few items with visibility above 0.15 had sales greater than 4000 while items\n",
    "with mean visibility less than 0.15 sold above 4000 , even more concentrated below 0.10. However, the data points are mostly concentrated below 4000, perhaps this isnt a strong determinant.\n",
    "For MRP in general, it was directly proportional to sales. MRP is an important feature perhaps.\n",
    "what was responsible for this?\n",
    "\n",
    "therefore, most of the items that sold above 4000 had high mean MRP, less than 0.1 mean visibility and weighed between 7.5 - 17.5."
   ]
  },
  {
   "cell_type": "code",
   "execution_count": 14,
   "metadata": {},
   "outputs": [
    {
     "data": {
      "application/vnd.jupyter.widget-view+json": {
       "model_id": "48bcd66adf5b46dfbf19cbdb540f75f1",
       "version_major": 2,
       "version_minor": 0
      },
      "text/plain": [
       "interactive(children=(Dropdown(description='column', options=('Item_Fat_Content', 'Item_Type', 'Outlet_Size', …"
      ]
     },
     "metadata": {},
     "output_type": "display_data"
    }
   ],
   "source": [
    "@interact\n",
    "def count(column= categorical_columns):\n",
    "    print(sales_train.groupby(column)['Item_Outlet_Sales'].count(),sales_train.groupby(column)['Item_Outlet_Sales'].max())\n",
    "    print(sales_train[sales_train['Item_Outlet_Sales'] > 6000].groupby(column)['Item_Outlet_Sales'].count())"
   ]
  },
  {
   "cell_type": "markdown",
   "metadata": {},
   "source": [
    "Products with low fat had more sales, had a higher max sales, and even more sales of items above the median sales. It is a valuable variable. \n",
    "\n",
    "Fruits and vegetables ,snack foods, household had more recorded sales than the rest of the item groups. household holds the item with the maximum sales, followed by fruits and vegetables and then snacks. Snack foods , fruits and vegetables , household have the most items above the median sales.\n",
    "\n",
    "## outlet size \n",
    "Medium had the highest recorded list of sales,followed by small and then high. maximum sale recorded was from the medium store, followed by high and then small. amount of items selling above median sales was from medium, small and high. \n",
    "\n",
    "## Outlet_location\n",
    "Item with Maximum sale came from tier 3 followed by 1,2. 3,2,1 in terms of amount of items performing above median sales.\n",
    "\n",
    "## Outlet_type \n",
    "type 1, grocery, 3, 2 in terms of number of items. supermarket 1 had the highest amount of items performing above median sales followed by 3, 2. None from Grocery.\n",
    "\n",
    "## Outlet_establishment\n",
    "In general, there was a decline in the amount of items performing above median sales.\n",
    "\n",
    "Possible order of importance :item_fat_content,outlet_type,outlet_size,outlet_location,,item_type, establishment_year"
   ]
  },
  {
   "cell_type": "markdown",
   "metadata": {},
   "source": [
    "#### Certain type of items were associated with high sales. It make sense to divide these items into 4 major categories.\n",
    "- fruits,snacks,household, frozen   \n",
    "- dairy,baking , canned, health\n",
    "- soft drinks,meat,bread, hard drinks,others,starchy food, sea food\n",
    "\n",
    "##### For the item properties , order of importance will be : mrp > item_visibility > item_weight."
   ]
  },
  {
   "cell_type": "markdown",
   "metadata": {},
   "source": [
    "# Examining continous variables.\n"
   ]
  },
  {
   "cell_type": "code",
   "execution_count": 15,
   "metadata": {},
   "outputs": [
    {
     "data": {
      "text/html": [
       "<div>\n",
       "<style scoped>\n",
       "    .dataframe tbody tr th:only-of-type {\n",
       "        vertical-align: middle;\n",
       "    }\n",
       "\n",
       "    .dataframe tbody tr th {\n",
       "        vertical-align: top;\n",
       "    }\n",
       "\n",
       "    .dataframe thead th {\n",
       "        text-align: right;\n",
       "    }\n",
       "</style>\n",
       "<table border=\"1\" class=\"dataframe\">\n",
       "  <thead>\n",
       "    <tr style=\"text-align: right;\">\n",
       "      <th></th>\n",
       "      <th>Item_Weight</th>\n",
       "      <th>Item_Visibility</th>\n",
       "      <th>Item_MRP</th>\n",
       "    </tr>\n",
       "  </thead>\n",
       "  <tbody>\n",
       "    <tr>\n",
       "      <th>count</th>\n",
       "      <td>7060.000000</td>\n",
       "      <td>8523.000000</td>\n",
       "      <td>8523.000000</td>\n",
       "    </tr>\n",
       "    <tr>\n",
       "      <th>mean</th>\n",
       "      <td>12.857645</td>\n",
       "      <td>0.066132</td>\n",
       "      <td>140.992782</td>\n",
       "    </tr>\n",
       "    <tr>\n",
       "      <th>std</th>\n",
       "      <td>4.643456</td>\n",
       "      <td>0.051598</td>\n",
       "      <td>62.275067</td>\n",
       "    </tr>\n",
       "    <tr>\n",
       "      <th>min</th>\n",
       "      <td>4.555000</td>\n",
       "      <td>0.000000</td>\n",
       "      <td>31.290000</td>\n",
       "    </tr>\n",
       "    <tr>\n",
       "      <th>25%</th>\n",
       "      <td>8.773750</td>\n",
       "      <td>0.026989</td>\n",
       "      <td>93.826500</td>\n",
       "    </tr>\n",
       "    <tr>\n",
       "      <th>50%</th>\n",
       "      <td>12.600000</td>\n",
       "      <td>0.053931</td>\n",
       "      <td>143.012800</td>\n",
       "    </tr>\n",
       "    <tr>\n",
       "      <th>75%</th>\n",
       "      <td>16.850000</td>\n",
       "      <td>0.094585</td>\n",
       "      <td>185.643700</td>\n",
       "    </tr>\n",
       "    <tr>\n",
       "      <th>max</th>\n",
       "      <td>21.350000</td>\n",
       "      <td>0.328391</td>\n",
       "      <td>266.888400</td>\n",
       "    </tr>\n",
       "  </tbody>\n",
       "</table>\n",
       "</div>"
      ],
      "text/plain": [
       "       Item_Weight  Item_Visibility     Item_MRP\n",
       "count  7060.000000      8523.000000  8523.000000\n",
       "mean     12.857645         0.066132   140.992782\n",
       "std       4.643456         0.051598    62.275067\n",
       "min       4.555000         0.000000    31.290000\n",
       "25%       8.773750         0.026989    93.826500\n",
       "50%      12.600000         0.053931   143.012800\n",
       "75%      16.850000         0.094585   185.643700\n",
       "max      21.350000         0.328391   266.888400"
      ]
     },
     "execution_count": 15,
     "metadata": {},
     "output_type": "execute_result"
    }
   ],
   "source": [
    "sales_train[continous_columns].describe()"
   ]
  },
  {
   "cell_type": "markdown",
   "metadata": {},
   "source": [
    "# Examining categorical variables."
   ]
  },
  {
   "cell_type": "code",
   "execution_count": 16,
   "metadata": {
    "scrolled": true
   },
   "outputs": [
    {
     "data": {
      "application/vnd.jupyter.widget-view+json": {
       "model_id": "8f703def42f542d4b623423d33616de1",
       "version_major": 2,
       "version_minor": 0
      },
      "text/plain": [
       "interactive(children=(Dropdown(description='column', options=('Item_Fat_Content', 'Item_Type', 'Outlet_Size', …"
      ]
     },
     "metadata": {},
     "output_type": "display_data"
    }
   ],
   "source": [
    "@interact\n",
    "def describe(column=categorical_columns):\n",
    "    table  = pd.crosstab(index=sales_train[column],columns = 'count', normalize = True, margins=True)\n",
    "    return table"
   ]
  },
  {
   "cell_type": "markdown",
   "metadata": {},
   "source": [
    "Almost half (45%)the shops were of medium size followed by small. 39% of the shops weere tier 3. 65% of the shop were a type 1 supermarket. 64% of the items were low fat."
   ]
  },
  {
   "cell_type": "markdown",
   "metadata": {},
   "source": [
    "# Examining relationships between the various variables."
   ]
  },
  {
   "cell_type": "code",
   "execution_count": 17,
   "metadata": {
    "scrolled": true
   },
   "outputs": [
    {
     "data": {
      "application/vnd.jupyter.widget-view+json": {
       "model_id": "c93aec30b0694787bf0e8de9ec77b6e9",
       "version_major": 2,
       "version_minor": 0
      },
      "text/plain": [
       "interactive(children=(Dropdown(description='x', options=('Item_Weight', 'Item_Visibility', 'Item_MRP'), value=…"
      ]
     },
     "metadata": {},
     "output_type": "display_data"
    }
   ],
   "source": [
    "@interact \n",
    "def rel(x= continous_columns, y = continous_columns):\n",
    "    print(sales_train[x].corr(sales_train[y]))\n",
    "    plt.plot(sales_train[x],sales_train[y],'.')\n",
    "    plt.xlabel(x)\n",
    "    plt.ylabel(y)\n",
    "    plt.show()"
   ]
  },
  {
   "cell_type": "markdown",
   "metadata": {},
   "source": [
    "There is no relationship between continous variables."
   ]
  },
  {
   "cell_type": "code",
   "execution_count": 18,
   "metadata": {
    "scrolled": true
   },
   "outputs": [
    {
     "data": {
      "application/vnd.jupyter.widget-view+json": {
       "model_id": "2df0d3d36dae42daaae1e79d868b9c11",
       "version_major": 2,
       "version_minor": 0
      },
      "text/plain": [
       "interactive(children=(Dropdown(description='row', options=('Item_Fat_Content', 'Item_Type', 'Outlet_Size', 'Ou…"
      ]
     },
     "metadata": {},
     "output_type": "display_data"
    }
   ],
   "source": [
    "@interact\n",
    "def cross_table(row= categorical_columns, col=categorical_columns):\n",
    "    table= pd.crosstab(sales_train[row],columns=sales_train[col],margins=True, normalize = True)\n",
    "    return table"
   ]
  },
  {
   "cell_type": "markdown",
   "metadata": {},
   "source": [
    "There is some relationship between outlet_location and outlet_size as tier 3 was the only location for large outlet sizes and there was a decrease from high to small . However for 1 and 2, there was an increase in the fraction of shops from high to small.\n",
    "Tier 3 had outlet types spread out almost evenly through the different supermarkets. 1 and 2 had on type 1 stores alone basically.\n",
    "All of the Tier 1 shops are old (1985 - 1999). Tier 2 starts from 2002. Tier 3 shops are mostly old.\n",
    "All large shops are type 1 supermarkets but was almost the same for the small shops. The relationship isnt really strong.\n",
    "grocery and type 3 stores were relatively older than type 1 and  2."
   ]
  },
  {
   "cell_type": "markdown",
   "metadata": {},
   "source": [
    "# Examining Relationships between categorical and continous properties.\n",
    "I shall assume that all continous variables arent related to the categorical since most categorical variables were properties pertaining to the stores. However, there might be some relationship between the MRP and location of store or supermarket type."
   ]
  },
  {
   "cell_type": "markdown",
   "metadata": {},
   "source": [
    "# Inference.\n",
    "If i wanted to increase sales i will target products with higher MRP, low in fat, sold in medium sized,type 1 stores located in a tier 3 location.\n"
   ]
  },
  {
   "cell_type": "markdown",
   "metadata": {},
   "source": [
    "# Dealing with null values.\n",
    "Only two features have null values : outlet_size and item weight.\n",
    "since these items and stores have identifiers i shall attempt to fill up the empty spaces according to their identifiers.\n"
   ]
  },
  {
   "cell_type": "code",
   "execution_count": 19,
   "metadata": {},
   "outputs": [],
   "source": [
    "item_weight = {}\n",
    "outlet_size = {}\n",
    "\n",
    "def retrieve(row):\n",
    "    item =  row['Item_Identifier'] \n",
    "    outlet = row['Outlet_Identifier'] \n",
    "    if item in item_weight.keys() and pd.isna(item_weight[item]):\n",
    "        item_weight[item] = row['Item_Weight']\n",
    "        \n",
    "    if outlet in outlet_size.keys() and pd.isna(outlet_size[outlet]):\n",
    "        outlet_size[outlet] = row['Outlet_Size'] \n",
    "        \n",
    "    if item not in item_weight.keys():\n",
    "        item_weight[item] = row['Item_Weight']\n",
    "        \n",
    "    if outlet not in outlet_size.keys():\n",
    "        outlet_size[outlet] = row['Outlet_Size']\n",
    "        \n",
    "def fillnull(row):\n",
    "    item =  row['Item_Identifier'] \n",
    "    outlet = row['Outlet_Identifier']\n",
    "    if pd.isna(row['Item_Weight']) and item in item_weight.keys():\n",
    "        row['Item_Weight'] = item_weight[item]\n",
    "    if pd.isna(row['Outlet_Size']) and row['Outlet_Type'] == 'Grocery Store':\n",
    "        row['Outlet_Size'] = 'Small'\n",
    "    elif pd.isna(row['Outlet_Size']) and (row['Outlet_Type'] == 'Supermarket Type2' or row['Outlet_Type']=='Supermarket Type3'):\n",
    "        row['Outlet_Size'] = 'Medium'\n",
    "    else:\n",
    "        row['Outlet_Size'] = 'Small'\n",
    "    \n",
    "    return row"
   ]
  },
  {
   "cell_type": "code",
   "execution_count": 20,
   "metadata": {},
   "outputs": [],
   "source": [
    "X = sales_train.apply(fillnull,axis=1)"
   ]
  },
  {
   "cell_type": "code",
   "execution_count": 21,
   "metadata": {},
   "outputs": [],
   "source": [
    "X.fillna(X['Item_Weight'].min(),inplace = True)"
   ]
  },
  {
   "cell_type": "code",
   "execution_count": 22,
   "metadata": {},
   "outputs": [],
   "source": [
    "X = X.drop(columns=['Item_Outlet_Sales'])"
   ]
  },
  {
   "cell_type": "markdown",
   "metadata": {},
   "source": [
    "# Dealing with outliers"
   ]
  },
  {
   "cell_type": "code",
   "execution_count": 23,
   "metadata": {},
   "outputs": [
    {
     "data": {
      "application/vnd.jupyter.widget-view+json": {
       "model_id": "796077caabd141a0a7e9648bc5ac7b21",
       "version_major": 2,
       "version_minor": 0
      },
      "text/plain": [
       "interactive(children=(Dropdown(description='column', options=('Item_Weight', 'Item_Visibility', 'Item_MRP'), v…"
      ]
     },
     "metadata": {},
     "output_type": "display_data"
    }
   ],
   "source": [
    "@interact\n",
    "def boxplot(column=continous_columns):\n",
    "    plt.boxplot(X[column])\n",
    "    plt.show()"
   ]
  },
  {
   "cell_type": "markdown",
   "metadata": {},
   "source": [
    "The Item Visibility had some outliers which i shall deal with later. However, Item_Visibility had very little relationship with outlet_sales so, i ignore it for now."
   ]
  },
  {
   "cell_type": "markdown",
   "metadata": {},
   "source": [
    "# Feature Engineering\n",
    "- Generate mean for each item identifier\n",
    "- possibly bin the item_visibility"
   ]
  },
  {
   "cell_type": "code",
   "execution_count": 24,
   "metadata": {},
   "outputs": [],
   "source": [
    "from sklearn.base import BaseEstimator , TransformerMixin\n",
    "\n",
    "\n",
    "class MeanSales(BaseEstimator, TransformerMixin):\n",
    "    def fit(self,X,y=None):\n",
    "        self.mean_sales = {}\n",
    "        #self.mrp = {}\n",
    "        group =  X.groupby('Item_Identifier')\n",
    "        mean_sales = group['Item_Outlet_Sales'].mean()\n",
    "        #mrp = group['Item_MRP'].mean()\n",
    "        index = mean_sales.index\n",
    "        \n",
    "        for ind , sale in zip(index,mean_sales):\n",
    "            self.mean_sales[ind] = sale\n",
    "            #self.mrp[ind] = price\n",
    "            \n",
    "        return self\n",
    "    \n",
    "    def mean(self,row):\n",
    "        sale =  (self.mean_sales[row['Item_Identifier']])\n",
    "        #mrp = (self.mrp[row['Item_Identifier']])\n",
    "        return sale\n",
    "    \n",
    "    def mean_mrp(self,row):\n",
    "        return self.mrp[row['Item_Identifier']]\n",
    "    \n",
    "    def transform(self,X):\n",
    "        sale = X.apply(self.mean, axis=1)\n",
    "        return sale\n",
    "        #mrp = X.apply(self.mean_mrp,axis = 1)\n",
    "        #Xt = pd.DataFrame({'mean_mrp': mrp, 'mean_sale': sale})\n",
    "        #return np.asarray(Xt)\n",
    "\n",
    "        \n",
    "class MRP(BaseEstimator, TransformerMixin):\n",
    "    def fit(self,X,y= None):\n",
    "        return self\n",
    "    \n",
    "    def transform(self,X):\n",
    "        return X['Item_MRP']"
   ]
  },
  {
   "cell_type": "code",
   "execution_count": 25,
   "metadata": {},
   "outputs": [],
   "source": [
    "high_sales = ['Fruits and Vegetables','Snack Foods','Household', 'Frozen Foods']\n",
    "medium_sales = ['Dairy','Baking Goods' , 'Canned', 'Health and Hygiene']\n",
    "low_sales = ['Soft Drinks','Meat','Breads', 'Hard Drinks','Others','Starchy Foods', 'Breakfast','Seafood']"
   ]
  },
  {
   "cell_type": "code",
   "execution_count": 26,
   "metadata": {},
   "outputs": [],
   "source": [
    "drop = ['Item_Identifier','Item_Weight','Outlet_Identifier']\n",
    "\n",
    "def year(yr):\n",
    "    if yr < 2000:\n",
    "        return 'Old'\n",
    "    else: \n",
    "        return 'New'\n",
    "    \n",
    "def group_item_type(item_type):\n",
    "    if item_type in high_sales:\n",
    "        return 'High sales'\n",
    "    elif item_type in medium_sales:\n",
    "        return 'Medium sales'\n",
    "    else: \n",
    "        return 'Low sales'\n",
    "\n",
    "def visible_space(area):\n",
    "    if area <= 0.10:\n",
    "        return 0\n",
    "    if area >0.10 and area  < 0.19:\n",
    "        return 1\n",
    "    else:\n",
    "        return 2\n",
    "    \n",
    "class SalesTransformer(BaseEstimator,TransformerMixin):\n",
    "    def fit(self,X,y=None):\n",
    "        return self\n",
    "    \n",
    "    def transform(self,X):\n",
    "        Xt = X.drop(columns=drop)\n",
    "        Xt['Item_MRP'] = np.log(X['Item_MRP'])\n",
    "        Xt['Item_Type'] = X['Item_Type'].apply(group_item_type)\n",
    "        Xt['Outlet_Establishment_Year'] = X['Outlet_Establishment_Year'].apply(year)\n",
    "        Xt['Item_Visibility'] = X['Item_Visibility'].apply(visible_space)\n",
    "        \n",
    "        return Xt"
   ]
  },
  {
   "cell_type": "code",
   "execution_count": 27,
   "metadata": {},
   "outputs": [],
   "source": [
    "sam =SalesTransformer().fit_transform(X)"
   ]
  },
  {
   "cell_type": "code",
   "execution_count": 28,
   "metadata": {},
   "outputs": [
    {
     "data": {
      "text/html": [
       "<div>\n",
       "<style scoped>\n",
       "    .dataframe tbody tr th:only-of-type {\n",
       "        vertical-align: middle;\n",
       "    }\n",
       "\n",
       "    .dataframe tbody tr th {\n",
       "        vertical-align: top;\n",
       "    }\n",
       "\n",
       "    .dataframe thead th {\n",
       "        text-align: right;\n",
       "    }\n",
       "</style>\n",
       "<table border=\"1\" class=\"dataframe\">\n",
       "  <thead>\n",
       "    <tr style=\"text-align: right;\">\n",
       "      <th></th>\n",
       "      <th>Item_Fat_Content</th>\n",
       "      <th>Item_Visibility</th>\n",
       "      <th>Item_Type</th>\n",
       "      <th>Item_MRP</th>\n",
       "      <th>Outlet_Establishment_Year</th>\n",
       "      <th>Outlet_Size</th>\n",
       "      <th>Outlet_Location_Type</th>\n",
       "      <th>Outlet_Type</th>\n",
       "    </tr>\n",
       "  </thead>\n",
       "  <tbody>\n",
       "    <tr>\n",
       "      <th>0</th>\n",
       "      <td>Low Fat</td>\n",
       "      <td>0</td>\n",
       "      <td>Medium sales</td>\n",
       "      <td>5.520697</td>\n",
       "      <td>Old</td>\n",
       "      <td>Small</td>\n",
       "      <td>Tier 1</td>\n",
       "      <td>Supermarket Type1</td>\n",
       "    </tr>\n",
       "    <tr>\n",
       "      <th>1</th>\n",
       "      <td>Regular</td>\n",
       "      <td>0</td>\n",
       "      <td>Low sales</td>\n",
       "      <td>3.876794</td>\n",
       "      <td>New</td>\n",
       "      <td>Small</td>\n",
       "      <td>Tier 3</td>\n",
       "      <td>Supermarket Type2</td>\n",
       "    </tr>\n",
       "    <tr>\n",
       "      <th>2</th>\n",
       "      <td>Low Fat</td>\n",
       "      <td>0</td>\n",
       "      <td>Low sales</td>\n",
       "      <td>4.953133</td>\n",
       "      <td>Old</td>\n",
       "      <td>Small</td>\n",
       "      <td>Tier 1</td>\n",
       "      <td>Supermarket Type1</td>\n",
       "    </tr>\n",
       "    <tr>\n",
       "      <th>3</th>\n",
       "      <td>Regular</td>\n",
       "      <td>0</td>\n",
       "      <td>High sales</td>\n",
       "      <td>5.204529</td>\n",
       "      <td>Old</td>\n",
       "      <td>Small</td>\n",
       "      <td>Tier 3</td>\n",
       "      <td>Grocery Store</td>\n",
       "    </tr>\n",
       "    <tr>\n",
       "      <th>4</th>\n",
       "      <td>Low Fat</td>\n",
       "      <td>0</td>\n",
       "      <td>High sales</td>\n",
       "      <td>3.986414</td>\n",
       "      <td>Old</td>\n",
       "      <td>Small</td>\n",
       "      <td>Tier 3</td>\n",
       "      <td>Supermarket Type1</td>\n",
       "    </tr>\n",
       "    <tr>\n",
       "      <th>...</th>\n",
       "      <td>...</td>\n",
       "      <td>...</td>\n",
       "      <td>...</td>\n",
       "      <td>...</td>\n",
       "      <td>...</td>\n",
       "      <td>...</td>\n",
       "      <td>...</td>\n",
       "      <td>...</td>\n",
       "    </tr>\n",
       "    <tr>\n",
       "      <th>8518</th>\n",
       "      <td>Low Fat</td>\n",
       "      <td>0</td>\n",
       "      <td>High sales</td>\n",
       "      <td>5.368411</td>\n",
       "      <td>Old</td>\n",
       "      <td>Small</td>\n",
       "      <td>Tier 3</td>\n",
       "      <td>Supermarket Type1</td>\n",
       "    </tr>\n",
       "    <tr>\n",
       "      <th>8519</th>\n",
       "      <td>Regular</td>\n",
       "      <td>0</td>\n",
       "      <td>Medium sales</td>\n",
       "      <td>4.683584</td>\n",
       "      <td>New</td>\n",
       "      <td>Small</td>\n",
       "      <td>Tier 2</td>\n",
       "      <td>Supermarket Type1</td>\n",
       "    </tr>\n",
       "    <tr>\n",
       "      <th>8520</th>\n",
       "      <td>Low Fat</td>\n",
       "      <td>0</td>\n",
       "      <td>Medium sales</td>\n",
       "      <td>4.444090</td>\n",
       "      <td>New</td>\n",
       "      <td>Small</td>\n",
       "      <td>Tier 2</td>\n",
       "      <td>Supermarket Type1</td>\n",
       "    </tr>\n",
       "    <tr>\n",
       "      <th>8521</th>\n",
       "      <td>Regular</td>\n",
       "      <td>1</td>\n",
       "      <td>High sales</td>\n",
       "      <td>4.636021</td>\n",
       "      <td>New</td>\n",
       "      <td>Small</td>\n",
       "      <td>Tier 3</td>\n",
       "      <td>Supermarket Type2</td>\n",
       "    </tr>\n",
       "    <tr>\n",
       "      <th>8522</th>\n",
       "      <td>Low Fat</td>\n",
       "      <td>0</td>\n",
       "      <td>Low sales</td>\n",
       "      <td>4.323695</td>\n",
       "      <td>Old</td>\n",
       "      <td>Small</td>\n",
       "      <td>Tier 1</td>\n",
       "      <td>Supermarket Type1</td>\n",
       "    </tr>\n",
       "  </tbody>\n",
       "</table>\n",
       "<p>8523 rows × 8 columns</p>\n",
       "</div>"
      ],
      "text/plain": [
       "     Item_Fat_Content  Item_Visibility     Item_Type  Item_MRP  \\\n",
       "0             Low Fat                0  Medium sales  5.520697   \n",
       "1             Regular                0     Low sales  3.876794   \n",
       "2             Low Fat                0     Low sales  4.953133   \n",
       "3             Regular                0    High sales  5.204529   \n",
       "4             Low Fat                0    High sales  3.986414   \n",
       "...               ...              ...           ...       ...   \n",
       "8518          Low Fat                0    High sales  5.368411   \n",
       "8519          Regular                0  Medium sales  4.683584   \n",
       "8520          Low Fat                0  Medium sales  4.444090   \n",
       "8521          Regular                1    High sales  4.636021   \n",
       "8522          Low Fat                0     Low sales  4.323695   \n",
       "\n",
       "     Outlet_Establishment_Year Outlet_Size Outlet_Location_Type  \\\n",
       "0                          Old       Small               Tier 1   \n",
       "1                          New       Small               Tier 3   \n",
       "2                          Old       Small               Tier 1   \n",
       "3                          Old       Small               Tier 3   \n",
       "4                          Old       Small               Tier 3   \n",
       "...                        ...         ...                  ...   \n",
       "8518                       Old       Small               Tier 3   \n",
       "8519                       New       Small               Tier 2   \n",
       "8520                       New       Small               Tier 2   \n",
       "8521                       New       Small               Tier 3   \n",
       "8522                       Old       Small               Tier 1   \n",
       "\n",
       "            Outlet_Type  \n",
       "0     Supermarket Type1  \n",
       "1     Supermarket Type2  \n",
       "2     Supermarket Type1  \n",
       "3         Grocery Store  \n",
       "4     Supermarket Type1  \n",
       "...                 ...  \n",
       "8518  Supermarket Type1  \n",
       "8519  Supermarket Type1  \n",
       "8520  Supermarket Type1  \n",
       "8521  Supermarket Type2  \n",
       "8522  Supermarket Type1  \n",
       "\n",
       "[8523 rows x 8 columns]"
      ]
     },
     "execution_count": 28,
     "metadata": {},
     "output_type": "execute_result"
    }
   ],
   "source": [
    "sam"
   ]
  },
  {
   "cell_type": "markdown",
   "metadata": {},
   "source": [
    "# Running Data through Machine learning models."
   ]
  },
  {
   "cell_type": "code",
   "execution_count": 36,
   "metadata": {},
   "outputs": [],
   "source": [
    "from sklearn.model_selection  import train_test_split, RandomizedSearchCV, GridSearchCV\n",
    "from sklearn.metrics import mean_squared_error as mse\n",
    "from xgboost import XGBRegressor\n",
    "from catboost import CatBoostRegressor\n",
    "from sklearn.linear_model import LinearRegression\n",
    "from sklearn.ensemble import RandomForestRegressor,AdaBoostRegressor\n",
    "from sklearn.preprocessing import OneHotEncoder,LabelEncoder,OrdinalEncoder,StandardScaler\n",
    "from sklearn.pipeline import Pipeline,FeatureUnion\n",
    "from sklearn.neighbors import KNeighborsRegressor\n",
    "from sklearn.svm import LinearSVR,SVR\n"
   ]
  },
  {
   "cell_type": "code",
   "execution_count": 37,
   "metadata": {},
   "outputs": [],
   "source": [
    "\n",
    "X_train, X_test, y_train, y_test = train_test_split(X,outlet_sales,test_size=0.2)\n"
   ]
  },
  {
   "cell_type": "code",
   "execution_count": 38,
   "metadata": {},
   "outputs": [],
   "source": [
    "#predictors = categorical_columns + ['Item_MRP']\n",
    "categorical_columns.append('Item_Visibility')"
   ]
  },
  {
   "cell_type": "code",
   "execution_count": 39,
   "metadata": {},
   "outputs": [],
   "source": [
    "from sklearn.decomposition import PCA\n",
    "#from sklearn.preprocessing import LabelEncoder, OneHotEncoder\n",
    "\n",
    "class Extract(BaseEstimator, TransformerMixin):\n",
    "    def fit(self, X, y= None):\n",
    "        return self\n",
    "    \n",
    "    def transform(self,X):\n",
    "        return np.asarray(X.loc[:,categorical_columns])\n",
    "    \n",
    "class MRP(BaseEstimator, TransformerMixin):\n",
    "    def fit(self,X,y=None):\n",
    "        return self\n",
    "    \n",
    "    def transform(self,X):\n",
    "        return np.asarray(np.log(X.loc[:,'Item_MRP'])).reshape(-1,1)"
   ]
  },
  {
   "cell_type": "code",
   "execution_count": 40,
   "metadata": {},
   "outputs": [],
   "source": [
    "pca_transformer_pipe = Pipeline([('sales_transform',SalesTransformer()),('ext', Extract()),('label_en',OrdinalEncoder()),('one_hot', OneHotEncoder(sparse=False)),('scaler',StandardScaler()),('pca', PCA(n_components=0.8))])\n",
    "transformer_pipe = Pipeline([('sales_transform',SalesTransformer()),('ext', Extract()),('label_en',OrdinalEncoder()),('one_hot', OneHotEncoder())])\n",
    "transformer_ordinal = Pipeline([('sales_transform',SalesTransformer()),('ext', Extract()),('label_en',OrdinalEncoder())])\n",
    "final_transform = FeatureUnion([('categorical',transformer_pipe),('mrp',MRP())])"
   ]
  },
  {
   "cell_type": "code",
   "execution_count": 41,
   "metadata": {},
   "outputs": [],
   "source": [
    "data_train = final_transform.fit_transform(X_train)\n",
    "data_test = final_transform.fit_transform(X_test)\n",
    "data= final_transform.fit_transform(X)"
   ]
  },
  {
   "cell_type": "code",
   "execution_count": 42,
   "metadata": {},
   "outputs": [],
   "source": [
    "item_mrp = MRP()\n",
    "#extract = Extract()\n",
    "mrp_models = {\n",
    "    'rgr' : LinearRegression(),\n",
    "    #'knn' : KNeighborsRegressor(),\n",
    "    'randomforest' : RandomForestRegressor(),\n",
    "    'xgb': XGBRegressor(),\n",
    "    #'svm' : LinearSVR()\n",
    "}\n",
    "\n"
   ]
  },
  {
   "cell_type": "code",
   "execution_count": 43,
   "metadata": {},
   "outputs": [
    {
     "name": "stdout",
     "output_type": "stream",
     "text": [
      "Scoring System : neg_root_mean_squared_error\n",
      "rgr =  -1638.6297019378344\n",
      "randomforest =  -1494.5659899891307\n",
      "xgb =  -1492.351165040898\n"
     ]
    }
   ],
   "source": [
    "from mlearn_utils import *\n",
    "spotcheck(X,outlet_sales,mrp_models, transformer = pca_transformer_pipe,scoring='neg_root_mean_squared_error')"
   ]
  },
  {
   "cell_type": "code",
   "execution_count": 562,
   "metadata": {
    "scrolled": true
   },
   "outputs": [
    {
     "name": "stdout",
     "output_type": "stream",
     "text": [
      "Scoring System : neg_root_mean_squared_error\n",
      "rgr =  -1487.2827553092325\n",
      "randomforest =  -1494.0962010436456\n",
      "xgb =  -1489.8603851810772\n"
     ]
    }
   ],
   "source": [
    "spotcheck(X,outlet_sales,mrp_models, transformer = transformer_pipe,scoring='neg_root_mean_squared_error')"
   ]
  },
  {
   "cell_type": "code",
   "execution_count": 195,
   "metadata": {},
   "outputs": [
    {
     "name": "stdout",
     "output_type": "stream",
     "text": [
      "Scoring System : neg_root_mean_squared_error\n",
      "rgr =  -1207.1605963802026\n",
      "randomforest =  -1215.9773973794242\n",
      "xgb =  -1086.7452756543917\n"
     ]
    }
   ],
   "source": [
    "spotcheck(X,outlet_sales,mrp_models, transformer = final_transform,scoring='neg_root_mean_squared_error')"
   ]
  },
  {
   "cell_type": "code",
   "execution_count": 44,
   "metadata": {
    "scrolled": true
   },
   "outputs": [
    {
     "name": "stdout",
     "output_type": "stream",
     "text": [
      "Scoring System : neg_root_mean_squared_error\n",
      "rgr =  -1404.9394028271195\n",
      "knn =  -1544.960703373134\n",
      "randomforest =  -1710.677215689317\n",
      "xgb =  -1415.7798529486402\n",
      "svm =  -1406.5876517905267\n"
     ]
    }
   ],
   "source": [
    "spotcheck(X,outlet_sales,mrp_models, transformer =item_mrp,scoring='neg_root_mean_squared_error')"
   ]
  },
  {
   "cell_type": "code",
   "execution_count": 97,
   "metadata": {},
   "outputs": [
    {
     "data": {
      "text/plain": [
       "array([0, 1, 2, 4, 5, 6, 7], dtype=int64)"
      ]
     },
     "execution_count": 97,
     "metadata": {},
     "output_type": "execute_result"
    }
   ],
   "source": [
    "cat_feat = np.where( sam.dtypes != np.float)[0]\n",
    "catboost = CatBoostRegressor(iterations=100, max_depth=3,loss_function='RMSE',cat_features=cat_feat)\n",
    "catboost_pipe = Pipeline([('sales', SalesTransformer()),('catboost', catboost)])\n",
    "cat_feat"
   ]
  },
  {
   "cell_type": "code",
   "execution_count": 224,
   "metadata": {},
   "outputs": [
    {
     "name": "stdout",
     "output_type": "stream",
     "text": [
      "Learning rate set to 0.328887\n",
      "0:\tlearn: 1561.9100697\ttotal: 11.8ms\tremaining: 1.17s\n",
      "1:\tlearn: 1358.5779891\ttotal: 19.2ms\tremaining: 939ms\n",
      "2:\tlearn: 1243.9300296\ttotal: 30ms\tremaining: 971ms\n",
      "3:\tlearn: 1181.2734059\ttotal: 35.7ms\tremaining: 857ms\n",
      "4:\tlearn: 1138.8137430\ttotal: 46.4ms\tremaining: 881ms\n",
      "5:\tlearn: 1115.7398079\ttotal: 52.1ms\tremaining: 816ms\n",
      "6:\tlearn: 1100.1913559\ttotal: 57.5ms\tremaining: 765ms\n",
      "7:\tlearn: 1093.0411514\ttotal: 63.4ms\tremaining: 729ms\n",
      "8:\tlearn: 1086.6714339\ttotal: 69.1ms\tremaining: 698ms\n",
      "9:\tlearn: 1083.6797499\ttotal: 74.7ms\tremaining: 672ms\n",
      "10:\tlearn: 1081.5426018\ttotal: 80.3ms\tremaining: 650ms\n",
      "11:\tlearn: 1079.6625446\ttotal: 86ms\tremaining: 631ms\n",
      "12:\tlearn: 1078.7725171\ttotal: 91.9ms\tremaining: 615ms\n",
      "13:\tlearn: 1078.3637162\ttotal: 98.6ms\tremaining: 606ms\n",
      "14:\tlearn: 1077.7667060\ttotal: 104ms\tremaining: 591ms\n",
      "15:\tlearn: 1077.7343251\ttotal: 110ms\tremaining: 578ms\n",
      "16:\tlearn: 1077.5364358\ttotal: 117ms\tremaining: 570ms\n",
      "17:\tlearn: 1077.3444600\ttotal: 122ms\tremaining: 556ms\n",
      "18:\tlearn: 1077.1836673\ttotal: 128ms\tremaining: 544ms\n",
      "19:\tlearn: 1076.9418918\ttotal: 133ms\tremaining: 533ms\n",
      "20:\tlearn: 1076.6952049\ttotal: 139ms\tremaining: 523ms\n",
      "21:\tlearn: 1076.6803095\ttotal: 144ms\tremaining: 512ms\n",
      "22:\tlearn: 1076.6589712\ttotal: 150ms\tremaining: 502ms\n",
      "23:\tlearn: 1076.6501042\ttotal: 157ms\tremaining: 498ms\n",
      "24:\tlearn: 1076.4332085\ttotal: 164ms\tremaining: 493ms\n",
      "25:\tlearn: 1076.4318917\ttotal: 171ms\tremaining: 486ms\n",
      "26:\tlearn: 1076.3809574\ttotal: 177ms\tremaining: 479ms\n",
      "27:\tlearn: 1076.2446040\ttotal: 184ms\tremaining: 472ms\n",
      "28:\tlearn: 1076.1028455\ttotal: 189ms\tremaining: 463ms\n",
      "29:\tlearn: 1076.0994007\ttotal: 194ms\tremaining: 454ms\n",
      "30:\tlearn: 1076.0116151\ttotal: 200ms\tremaining: 444ms\n",
      "31:\tlearn: 1076.0056110\ttotal: 205ms\tremaining: 436ms\n",
      "32:\tlearn: 1075.9552624\ttotal: 219ms\tremaining: 445ms\n",
      "33:\tlearn: 1075.9221347\ttotal: 225ms\tremaining: 437ms\n",
      "34:\tlearn: 1075.8751695\ttotal: 230ms\tremaining: 428ms\n",
      "35:\tlearn: 1075.8707821\ttotal: 236ms\tremaining: 420ms\n",
      "36:\tlearn: 1075.7825125\ttotal: 241ms\tremaining: 410ms\n",
      "37:\tlearn: 1075.2196128\ttotal: 246ms\tremaining: 402ms\n",
      "38:\tlearn: 1073.9255928\ttotal: 252ms\tremaining: 393ms\n",
      "39:\tlearn: 1073.8864957\ttotal: 257ms\tremaining: 385ms\n",
      "40:\tlearn: 1073.8624969\ttotal: 263ms\tremaining: 378ms\n",
      "41:\tlearn: 1073.4892655\ttotal: 269ms\tremaining: 371ms\n",
      "42:\tlearn: 1073.2584753\ttotal: 276ms\tremaining: 365ms\n",
      "43:\tlearn: 1073.2052694\ttotal: 287ms\tremaining: 365ms\n",
      "44:\tlearn: 1072.7699163\ttotal: 294ms\tremaining: 359ms\n",
      "45:\tlearn: 1072.7113465\ttotal: 300ms\tremaining: 352ms\n",
      "46:\tlearn: 1072.6976992\ttotal: 305ms\tremaining: 344ms\n",
      "47:\tlearn: 1072.6897502\ttotal: 311ms\tremaining: 337ms\n",
      "48:\tlearn: 1072.6881602\ttotal: 316ms\tremaining: 329ms\n",
      "49:\tlearn: 1072.5459155\ttotal: 323ms\tremaining: 323ms\n",
      "50:\tlearn: 1072.5374789\ttotal: 332ms\tremaining: 319ms\n",
      "51:\tlearn: 1072.5321696\ttotal: 337ms\tremaining: 311ms\n",
      "52:\tlearn: 1072.4005870\ttotal: 344ms\tremaining: 305ms\n",
      "53:\tlearn: 1072.0651608\ttotal: 353ms\tremaining: 301ms\n",
      "54:\tlearn: 1071.4994884\ttotal: 359ms\tremaining: 293ms\n",
      "55:\tlearn: 1071.3831737\ttotal: 364ms\tremaining: 286ms\n",
      "56:\tlearn: 1071.1446231\ttotal: 371ms\tremaining: 280ms\n",
      "57:\tlearn: 1070.8329597\ttotal: 377ms\tremaining: 273ms\n",
      "58:\tlearn: 1070.8302430\ttotal: 382ms\tremaining: 266ms\n",
      "59:\tlearn: 1070.8280647\ttotal: 387ms\tremaining: 258ms\n",
      "60:\tlearn: 1070.8066676\ttotal: 393ms\tremaining: 251ms\n",
      "61:\tlearn: 1070.7995972\ttotal: 399ms\tremaining: 244ms\n",
      "62:\tlearn: 1070.7943002\ttotal: 404ms\tremaining: 237ms\n",
      "63:\tlearn: 1070.7926203\ttotal: 410ms\tremaining: 231ms\n",
      "64:\tlearn: 1070.7772860\ttotal: 421ms\tremaining: 227ms\n",
      "65:\tlearn: 1070.7642663\ttotal: 428ms\tremaining: 221ms\n",
      "66:\tlearn: 1070.7157519\ttotal: 434ms\tremaining: 214ms\n",
      "67:\tlearn: 1070.6836035\ttotal: 439ms\tremaining: 207ms\n",
      "68:\tlearn: 1070.5639759\ttotal: 447ms\tremaining: 201ms\n",
      "69:\tlearn: 1070.2504921\ttotal: 453ms\tremaining: 194ms\n",
      "70:\tlearn: 1070.0917886\ttotal: 462ms\tremaining: 189ms\n",
      "71:\tlearn: 1070.0026303\ttotal: 468ms\tremaining: 182ms\n",
      "72:\tlearn: 1069.9971770\ttotal: 474ms\tremaining: 175ms\n",
      "73:\tlearn: 1069.9571401\ttotal: 482ms\tremaining: 169ms\n",
      "74:\tlearn: 1069.9357514\ttotal: 487ms\tremaining: 162ms\n",
      "75:\tlearn: 1069.9156466\ttotal: 495ms\tremaining: 156ms\n",
      "76:\tlearn: 1069.6280408\ttotal: 501ms\tremaining: 150ms\n",
      "77:\tlearn: 1069.4653127\ttotal: 507ms\tremaining: 143ms\n",
      "78:\tlearn: 1069.4138020\ttotal: 514ms\tremaining: 137ms\n",
      "79:\tlearn: 1069.2194789\ttotal: 521ms\tremaining: 130ms\n",
      "80:\tlearn: 1069.0157140\ttotal: 528ms\tremaining: 124ms\n",
      "81:\tlearn: 1068.9907657\ttotal: 535ms\tremaining: 117ms\n",
      "82:\tlearn: 1068.9296676\ttotal: 540ms\tremaining: 111ms\n",
      "83:\tlearn: 1068.3650895\ttotal: 547ms\tremaining: 104ms\n",
      "84:\tlearn: 1068.1699502\ttotal: 552ms\tremaining: 97.4ms\n",
      "85:\tlearn: 1068.1548373\ttotal: 557ms\tremaining: 90.7ms\n",
      "86:\tlearn: 1068.1292637\ttotal: 563ms\tremaining: 84.1ms\n",
      "87:\tlearn: 1068.1280450\ttotal: 568ms\tremaining: 77.5ms\n",
      "88:\tlearn: 1067.9862310\ttotal: 575ms\tremaining: 71.1ms\n",
      "89:\tlearn: 1067.9358384\ttotal: 580ms\tremaining: 64.5ms\n",
      "90:\tlearn: 1067.7211285\ttotal: 586ms\tremaining: 57.9ms\n",
      "91:\tlearn: 1067.2867063\ttotal: 592ms\tremaining: 51.4ms\n",
      "92:\tlearn: 1067.2643672\ttotal: 597ms\tremaining: 44.9ms\n",
      "93:\tlearn: 1067.1952141\ttotal: 602ms\tremaining: 38.4ms\n",
      "94:\tlearn: 1067.1875354\ttotal: 613ms\tremaining: 32.2ms\n",
      "95:\tlearn: 1067.1727242\ttotal: 618ms\tremaining: 25.7ms\n",
      "96:\tlearn: 1066.9988905\ttotal: 625ms\tremaining: 19.3ms\n",
      "97:\tlearn: 1066.5030948\ttotal: 631ms\tremaining: 12.9ms\n",
      "98:\tlearn: 1066.5004236\ttotal: 637ms\tremaining: 6.44ms\n",
      "99:\tlearn: 1066.4982080\ttotal: 645ms\tremaining: 0us\n"
     ]
    },
    {
     "data": {
      "text/plain": [
       "Pipeline(memory=None,\n",
       "         steps=[('sales', SalesTransformer()),\n",
       "                ('catboost',\n",
       "                 <catboost.core.CatBoostRegressor object at 0x00000209D37E6F48>)],\n",
       "         verbose=False)"
      ]
     },
     "execution_count": 224,
     "metadata": {},
     "output_type": "execute_result"
    }
   ],
   "source": [
    "catboost_pipe.fit(X,outlet_sales)"
   ]
  },
  {
   "cell_type": "markdown",
   "metadata": {},
   "source": [
    "# Comparing use of PCA with just OneHotEncoding.\n",
    "In this case, the onehotencoding performed slightly better than the PCA for Xgb but much better for other models. so i will use only OneHotEncoding.\n",
    "The performance with pca was lower than the normal transformer pipe for the linear regressor only."
   ]
  },
  {
   "cell_type": "code",
   "execution_count": 212,
   "metadata": {},
   "outputs": [
    {
     "name": "stdout",
     "output_type": "stream",
     "text": [
      "Scoring System : neg_root_mean_squared_error\n",
      "cat =  1080.988184787183\n"
     ]
    }
   ],
   "source": [
    "#catboost_pipe.fit(X,outlet_sales)\n",
    "spotcheck(X,outlet_sales,{'cat': catboost_pipe},scoring='neg_root_mean_squared_error')"
   ]
  },
  {
   "cell_type": "markdown",
   "metadata": {},
   "source": [
    "# Hypertuning The Models"
   ]
  },
  {
   "cell_type": "markdown",
   "metadata": {},
   "source": [
    "# Tuning the parameters for XGBoost"
   ]
  },
  {
   "cell_type": "code",
   "execution_count": 44,
   "metadata": {},
   "outputs": [],
   "source": [
    "import xgboost as xgbm\n",
    "from xgboost.sklearn import XGBRegressor\n",
    "from sklearn import  metrics\n",
    "from sklearn.model_selection import GridSearchCV\n",
    "\n",
    "from matplotlib.pylab import rcParams\n",
    "rcParams['figure.figsize'] = 12, 4\n",
    "\n",
    "\n",
    "\n",
    "def modelfit(alg, dtrain, dtest,useTrainCV=True, cv_folds=5, early_stopping_rounds=30):\n",
    "    \n",
    "    if useTrainCV:\n",
    "        xgb_param = alg.get_xgb_params()\n",
    "        xgtrain = xgbm.DMatrix(dtrain, label=y_train.values)\n",
    "        xgtest = xgbm.DMatrix(dtest)\n",
    "        cvresult = xgbm.cv(xgb_param, xgtrain, num_boost_round=alg.get_params()['n_estimators'], nfold=cv_folds,\n",
    "            metrics='rmse', early_stopping_rounds=early_stopping_rounds, verbose_eval=True)\n",
    "        alg.set_params(n_estimators=cvresult.shape[0])\n",
    "    \n",
    "    #Fit the algorithm on the data\n",
    "    alg.fit(dtrain, y_train,eval_metric='rmse')\n",
    "        \n",
    "    #Predict training set:\n",
    "    dtrain_predictions = alg.predict(dtrain)\n",
    "        \n",
    "    #Print model report:\n",
    "    print(\"\\nModel Report\")\n",
    "    print( f'RMSE : { np.sqrt(metrics.mean_squared_error(y_train, dtrain_predictions))}')\n",
    "    #print( \"AUC Score (Train): %f\" % metrics.roc_auc_score(dtrain['Disbursed'], dtrain_predprob))\n",
    "    \n",
    "#     Predict on testing data:\n",
    "    dtest_predictions = alg.predict(dtest)\n",
    "    print( f' RMSE (Test): { np.sqrt(metrics.mean_squared_error(y_test,dtest_predictions))}')\n",
    "                \n",
    "    #feat_imp = pd.Series(alg.booster().get_fscore()).sort_values(ascending=False)\n",
    "    #feat_imp.plot(kind='bar', title='Feature Importances')\n",
    "    #plt.ylabel('Feature Importance Score')\n"
   ]
  },
  {
   "cell_type": "code",
   "execution_count": 327,
   "metadata": {},
   "outputs": [],
   "source": [
    "best_xgb = XGBRegressor( learning_rate =0.02, n_estimators=300, max_depth=3,\n",
    "                                        min_child_weight=11, gamma=0, subsample=0.9, colsample_bytree=0.9,\n",
    "                                        objective= 'reg:squarederror', nthread=4,reg_alpha=120)\n",
    "#modelfit(best_xgb, data_train, data_test, predictors)"
   ]
  },
  {
   "cell_type": "markdown",
   "metadata": {},
   "source": [
    "### The above best_xgb model was the best model after parameter tuning (cells for tuning were deleted). However, the steps defined below were taken.\n",
    "\n",
    "-Set a fixed learning rate and find an n_estimators needed using xgb.cv while keeping the other parameter to be tuned fixed:\n",
    "max_depth, min_child_weight, gamma, subsample, colsample_bytree\n",
    "- learning_rate =0.1,\n",
    "- n_estimators=1000,\n",
    "- max_depth=5,\n",
    "- min_child_weight=1,\n",
    "- gamma=0,\n",
    "- subsample=0.8,\n",
    "- colsample_bytree=0.8,\n",
    "- objective= 'binary:logistic',\n",
    "- nthread=4,\n",
    "- scale_pos_weight=1,\n",
    "- seed=27)"
   ]
  },
  {
   "cell_type": "code",
   "execution_count": 460,
   "metadata": {},
   "outputs": [
    {
     "name": "stdout",
     "output_type": "stream",
     "text": [
      "Scoring System : neg_root_mean_squared_error\n",
      "xgb =  1078.5561525551327\n"
     ]
    }
   ],
   "source": [
    "spotcheck(data,outlet_sales,{'xgb':best_xgb},scoring='neg_root_mean_squared_error')"
   ]
  },
  {
   "cell_type": "code",
   "execution_count": 329,
   "metadata": {},
   "outputs": [],
   "source": [
    "import pickle\n",
    "\n",
    "with open('best_xgb.ml','wb') as f:\n",
    "    pickle.dump(best_xgb,f)"
   ]
  },
  {
   "cell_type": "code",
   "execution_count": 425,
   "metadata": {},
   "outputs": [
    {
     "name": "stderr",
     "output_type": "stream",
     "text": [
      "c:\\users\\jeffery\\appdata\\local\\programs\\python\\python37\\lib\\site-packages\\xgboost\\core.py:587: FutureWarning: Series.base is deprecated and will be removed in a future version\n",
      "  if getattr(data, 'base', None) is not None and \\\n",
      "c:\\users\\jeffery\\appdata\\local\\programs\\python\\python37\\lib\\site-packages\\xgboost\\core.py:588: FutureWarning: Series.base is deprecated and will be removed in a future version\n",
      "  data.base is not None and isinstance(data, np.ndarray) \\\n"
     ]
    },
    {
     "data": {
      "text/plain": [
       "Pipeline(memory=None,\n",
       "         steps=[('transform',\n",
       "                 FeatureUnion(n_jobs=None,\n",
       "                              transformer_list=[('categorical',\n",
       "                                                 Pipeline(memory=None,\n",
       "                                                          steps=[('sales_transform',\n",
       "                                                                  SalesTransformer()),\n",
       "                                                                 ('ext',\n",
       "                                                                  Extract()),\n",
       "                                                                 ('label_en',\n",
       "                                                                  OrdinalEncoder(categories='auto',\n",
       "                                                                                 dtype=<class 'numpy.float64'>)),\n",
       "                                                                 ('one_hot',\n",
       "                                                                  OneHotEncoder(categories='auto',\n",
       "                                                                                drop=None,\n",
       "                                                                                dtype=<class 'numpy.float64'>,\n",
       "                                                                                handle_u...\n",
       "                              colsample_bylevel=1, colsample_bynode=1,\n",
       "                              colsample_bytree=0.9, gamma=0,\n",
       "                              importance_type='gain', learning_rate=0.02,\n",
       "                              max_delta_step=0, max_depth=3,\n",
       "                              min_child_weight=11, missing=None,\n",
       "                              n_estimators=300, n_jobs=1, nthread=4,\n",
       "                              objective='reg:squarederror', random_state=0,\n",
       "                              reg_alpha=120, reg_lambda=1, scale_pos_weight=1,\n",
       "                              seed=None, silent=None, subsample=0.9,\n",
       "                              verbosity=1))],\n",
       "         verbose=False)"
      ]
     },
     "execution_count": 425,
     "metadata": {},
     "output_type": "execute_result"
    }
   ],
   "source": [
    "xgb  = Pipeline([('transform', final_transform),('xgb',best_xgb)])\n",
    "xgb.fit(X,outlet_sales)"
   ]
  },
  {
   "cell_type": "markdown",
   "metadata": {},
   "source": [
    "# Tuning the parameters for CatBoost"
   ]
  },
  {
   "cell_type": "markdown",
   "metadata": {},
   "source": [
    "# Using Ensemble Models"
   ]
  },
  {
   "cell_type": "code",
   "execution_count": 317,
   "metadata": {},
   "outputs": [],
   "source": [
    "from sklearn.base import RegressorMixin\n",
    "from sklearn.utils import shuffle"
   ]
  },
  {
   "cell_type": "code",
   "execution_count": 363,
   "metadata": {},
   "outputs": [],
   "source": [
    "class Ensembler(BaseEstimator, TransformerMixin):\n",
    "    def __init__(self,estimator):\n",
    "        self.estimator = estimator\n",
    "    \n",
    "    def fit(self,X,y=None):\n",
    "        #X_shuffled, y_shuffled = shuffle(X,y,n_samples=7100)\n",
    "        self.estimator.fit(X,y)\n",
    "        return self\n",
    "        \n",
    "    def transform(self,X):\n",
    "        Xt = np.atleast_2d(self.estimator.predict(X)).T\n",
    "        return Xt"
   ]
  },
  {
   "cell_type": "code",
   "execution_count": 426,
   "metadata": {},
   "outputs": [],
   "source": [
    "linrgr = Pipeline([('transformer',final_transform),('rgr',Ensembler(LinearRegression(LinearRegression())))])\n",
    "XGB = Pipeline([('transformer',final_transform),('xgb',Ensembler(XGBRegressor(objective= 'reg:squarederror')))])\n",
    "ensemble = FeatureUnion([('rgr',linrgr)\n",
    "                        ,('xgb', XGB)])\n",
    "xgb_ensemble = Pipeline([('ensemble',ensemble),('rgr',XGBRegressor(objective= 'reg:squarederror'))])\n",
    "#xgb_ensemble = Pipeline([('ensemble',ensemble),('rgr',LinearRegression())])"
   ]
  },
  {
   "cell_type": "code",
   "execution_count": 368,
   "metadata": {},
   "outputs": [
    {
     "name": "stderr",
     "output_type": "stream",
     "text": [
      "c:\\users\\jeffery\\appdata\\local\\programs\\python\\python37\\lib\\site-packages\\xgboost\\core.py:587: FutureWarning: Series.base is deprecated and will be removed in a future version\n",
      "  if getattr(data, 'base', None) is not None and \\\n",
      "c:\\users\\jeffery\\appdata\\local\\programs\\python\\python37\\lib\\site-packages\\xgboost\\core.py:587: FutureWarning: Series.base is deprecated and will be removed in a future version\n",
      "  if getattr(data, 'base', None) is not None and \\\n"
     ]
    }
   ],
   "source": [
    "ensemble_data = ensemble.fit_transform(X_train,y_train)\n",
    "ensemble_test = ensemble.fit_transform(X_test,y_test)"
   ]
  },
  {
   "cell_type": "code",
   "execution_count": 375,
   "metadata": {},
   "outputs": [
    {
     "name": "stderr",
     "output_type": "stream",
     "text": [
      "c:\\users\\jeffery\\appdata\\local\\programs\\python\\python37\\lib\\site-packages\\xgboost\\core.py:587: FutureWarning: Series.base is deprecated and will be removed in a future version\n",
      "  if getattr(data, 'base', None) is not None and \\\n",
      "c:\\users\\jeffery\\appdata\\local\\programs\\python\\python37\\lib\\site-packages\\xgboost\\core.py:588: FutureWarning: Series.base is deprecated and will be removed in a future version\n",
      "  data.base is not None and isinstance(data, np.ndarray) \\\n"
     ]
    }
   ],
   "source": [
    "full_data= ensemble.fit_transform(X,outlet_sales)"
   ]
  },
  {
   "cell_type": "code",
   "execution_count": 408,
   "metadata": {},
   "outputs": [],
   "source": [
    "b = XGBRegressor( learning_rate =0.01, n_estimators=980, max_depth=3,\n",
    "                                        min_child_weight=1, gamma=0, subsample=0.8, colsample_bytree=0,\n",
    "                                        objective= 'reg:squarederror', nthread=4,reg_alpha=5)\n",
    "#modelfit(b, ensemble_data, ensemble_test)"
   ]
  },
  {
   "cell_type": "code",
   "execution_count": 427,
   "metadata": {},
   "outputs": [
    {
     "name": "stderr",
     "output_type": "stream",
     "text": [
      "c:\\users\\jeffery\\appdata\\local\\programs\\python\\python37\\lib\\site-packages\\xgboost\\core.py:587: FutureWarning: Series.base is deprecated and will be removed in a future version\n",
      "  if getattr(data, 'base', None) is not None and \\\n",
      "c:\\users\\jeffery\\appdata\\local\\programs\\python\\python37\\lib\\site-packages\\xgboost\\core.py:588: FutureWarning: Series.base is deprecated and will be removed in a future version\n",
      "  data.base is not None and isinstance(data, np.ndarray) \\\n"
     ]
    },
    {
     "data": {
      "text/plain": [
       "Pipeline(memory=None,\n",
       "         steps=[('ensemble',\n",
       "                 FeatureUnion(n_jobs=None,\n",
       "                              transformer_list=[('rgr',\n",
       "                                                 Pipeline(memory=None,\n",
       "                                                          steps=[('transformer',\n",
       "                                                                  FeatureUnion(n_jobs=None,\n",
       "                                                                               transformer_list=[('categorical',\n",
       "                                                                                                  Pipeline(memory=None,\n",
       "                                                                                                           steps=[('sales_transform',\n",
       "                                                                                                                   SalesTransformer()),\n",
       "                                                                                                                  ('ext',\n",
       "                                                                                                                   Extract()),\n",
       "                                                                                                                  ('label_en',\n",
       "                                                                                                                   OrdinalEncoder(categories='auto',\n",
       "                                                                                                                                  dtype=<class 'numpy.float64'>)...\n",
       "                              colsample_bylevel=1, colsample_bynode=1,\n",
       "                              colsample_bytree=1, gamma=0,\n",
       "                              importance_type='gain', learning_rate=0.1,\n",
       "                              max_delta_step=0, max_depth=3, min_child_weight=1,\n",
       "                              missing=None, n_estimators=100, n_jobs=1,\n",
       "                              nthread=None, objective='reg:squarederror',\n",
       "                              random_state=0, reg_alpha=0, reg_lambda=1,\n",
       "                              scale_pos_weight=1, seed=None, silent=None,\n",
       "                              subsample=1, verbosity=1))],\n",
       "         verbose=False)"
      ]
     },
     "execution_count": 427,
     "metadata": {},
     "output_type": "execute_result"
    }
   ],
   "source": [
    "xgb_ensemble.fit(X,outlet_sales)"
   ]
  },
  {
   "cell_type": "code",
   "execution_count": 435,
   "metadata": {},
   "outputs": [],
   "source": [
    "xgb_pipe = Pipeline([('transform', final_transform),('xgb',Ensembler(XGBRegressor(learning_rate =0.02, n_estimators=300, max_depth=3,\n",
    "                                                    min_child_weight=11, gamma=0, subsample=0.9, colsample_bytree=0.9)))])\n",
    "boost_ensemble = FeatureUnion([('xgb',xgb_pipe),('cat',Ensembler(catboost_pipe))])\n",
    "linear_ensemble = Pipeline([('ensemble',boost_ensemble),('rgr', XGBRegressor())])"
   ]
  },
  {
   "cell_type": "markdown",
   "metadata": {},
   "source": [
    "Ensemble model did better than most of its counterpart except the catboost and xgboost models."
   ]
  },
  {
   "cell_type": "code",
   "execution_count": 433,
   "metadata": {},
   "outputs": [
    {
     "name": "stdout",
     "output_type": "stream",
     "text": [
      "Scoring System : neg_root_mean_squared_error\n",
      "ensemble =  1123.6818870912048\n"
     ]
    }
   ],
   "source": [
    "spotcheck(X,outlet_sales,{'ensemble': xgb_ensemble},scoring='neg_root_mean_squared_error')"
   ]
  },
  {
   "cell_type": "code",
   "execution_count": 436,
   "metadata": {},
   "outputs": [
    {
     "name": "stdout",
     "output_type": "stream",
     "text": [
      "Scoring System : neg_root_mean_squared_error\n",
      "ensemble =  1098.8103415782566\n"
     ]
    }
   ],
   "source": [
    "spotcheck(X,outlet_sales,{'ensemble': linear_ensemble},scoring='neg_root_mean_squared_error')"
   ]
  },
  {
   "cell_type": "code",
   "execution_count": 437,
   "metadata": {},
   "outputs": [
    {
     "name": "stderr",
     "output_type": "stream",
     "text": [
      "c:\\users\\jeffery\\appdata\\local\\programs\\python\\python37\\lib\\site-packages\\xgboost\\core.py:587: FutureWarning: Series.base is deprecated and will be removed in a future version\n",
      "  if getattr(data, 'base', None) is not None and \\\n",
      "c:\\users\\jeffery\\appdata\\local\\programs\\python\\python37\\lib\\site-packages\\xgboost\\core.py:588: FutureWarning: Series.base is deprecated and will be removed in a future version\n",
      "  data.base is not None and isinstance(data, np.ndarray) \\\n"
     ]
    },
    {
     "name": "stdout",
     "output_type": "stream",
     "text": [
      "[13:09:08] WARNING: C:/Jenkins/workspace/xgboost-win64_release_0.90/src/objective/regression_obj.cu:152: reg:linear is now deprecated in favor of reg:squarederror.\n",
      "Learning rate set to 0.328887\n",
      "0:\tlearn: 1561.3010282\ttotal: 12.3ms\tremaining: 1.22s\n",
      "1:\tlearn: 1359.4251307\ttotal: 19.9ms\tremaining: 974ms\n",
      "2:\tlearn: 1246.9140209\ttotal: 33.3ms\tremaining: 1.08s\n",
      "3:\tlearn: 1177.7387100\ttotal: 40.7ms\tremaining: 977ms\n",
      "4:\tlearn: 1140.3104310\ttotal: 47ms\tremaining: 892ms\n",
      "5:\tlearn: 1117.8459041\ttotal: 52.8ms\tremaining: 827ms\n",
      "6:\tlearn: 1103.0373761\ttotal: 59.3ms\tremaining: 788ms\n",
      "7:\tlearn: 1093.7226802\ttotal: 71.2ms\tremaining: 819ms\n",
      "8:\tlearn: 1088.9918637\ttotal: 77.7ms\tremaining: 786ms\n",
      "9:\tlearn: 1085.0976264\ttotal: 84.2ms\tremaining: 758ms\n",
      "10:\tlearn: 1083.0382317\ttotal: 90.5ms\tremaining: 732ms\n",
      "11:\tlearn: 1082.5377771\ttotal: 97.6ms\tremaining: 716ms\n",
      "12:\tlearn: 1081.8899370\ttotal: 104ms\tremaining: 696ms\n",
      "13:\tlearn: 1080.3254468\ttotal: 111ms\tremaining: 679ms\n",
      "14:\tlearn: 1080.3090522\ttotal: 116ms\tremaining: 657ms\n",
      "15:\tlearn: 1079.9083153\ttotal: 122ms\tremaining: 640ms\n",
      "16:\tlearn: 1079.8628180\ttotal: 129ms\tremaining: 629ms\n",
      "17:\tlearn: 1079.7727755\ttotal: 135ms\tremaining: 616ms\n",
      "18:\tlearn: 1079.5193212\ttotal: 142ms\tremaining: 606ms\n",
      "19:\tlearn: 1079.5119124\ttotal: 150ms\tremaining: 598ms\n",
      "20:\tlearn: 1079.4574296\ttotal: 156ms\tremaining: 585ms\n",
      "21:\tlearn: 1079.3690775\ttotal: 162ms\tremaining: 574ms\n",
      "22:\tlearn: 1079.3681503\ttotal: 168ms\tremaining: 563ms\n",
      "23:\tlearn: 1079.2043833\ttotal: 177ms\tremaining: 559ms\n",
      "24:\tlearn: 1078.9440577\ttotal: 184ms\tremaining: 552ms\n",
      "25:\tlearn: 1078.7965939\ttotal: 193ms\tremaining: 549ms\n",
      "26:\tlearn: 1078.7716335\ttotal: 199ms\tremaining: 539ms\n",
      "27:\tlearn: 1078.7605916\ttotal: 206ms\tremaining: 529ms\n",
      "28:\tlearn: 1077.8391313\ttotal: 212ms\tremaining: 519ms\n",
      "29:\tlearn: 1077.5479460\ttotal: 218ms\tremaining: 510ms\n",
      "30:\tlearn: 1076.8476815\ttotal: 225ms\tremaining: 501ms\n",
      "31:\tlearn: 1076.8084237\ttotal: 232ms\tremaining: 492ms\n",
      "32:\tlearn: 1076.7937494\ttotal: 240ms\tremaining: 488ms\n",
      "33:\tlearn: 1076.5030971\ttotal: 250ms\tremaining: 485ms\n",
      "34:\tlearn: 1076.4928019\ttotal: 257ms\tremaining: 477ms\n",
      "35:\tlearn: 1075.9816702\ttotal: 263ms\tremaining: 467ms\n",
      "36:\tlearn: 1074.7662085\ttotal: 270ms\tremaining: 460ms\n",
      "37:\tlearn: 1074.7599826\ttotal: 279ms\tremaining: 456ms\n",
      "38:\tlearn: 1074.4795664\ttotal: 289ms\tremaining: 452ms\n",
      "39:\tlearn: 1073.8028140\ttotal: 298ms\tremaining: 448ms\n",
      "40:\tlearn: 1073.7967394\ttotal: 305ms\tremaining: 439ms\n",
      "41:\tlearn: 1073.7389452\ttotal: 311ms\tremaining: 430ms\n",
      "42:\tlearn: 1073.6618284\ttotal: 317ms\tremaining: 421ms\n",
      "43:\tlearn: 1073.6317573\ttotal: 324ms\tremaining: 412ms\n",
      "44:\tlearn: 1073.5596716\ttotal: 331ms\tremaining: 404ms\n",
      "45:\tlearn: 1073.5372826\ttotal: 338ms\tremaining: 397ms\n",
      "46:\tlearn: 1073.5353643\ttotal: 345ms\tremaining: 389ms\n",
      "47:\tlearn: 1073.4922013\ttotal: 358ms\tremaining: 388ms\n",
      "48:\tlearn: 1073.4056537\ttotal: 364ms\tremaining: 379ms\n",
      "49:\tlearn: 1073.1324003\ttotal: 372ms\tremaining: 372ms\n",
      "50:\tlearn: 1072.8027133\ttotal: 378ms\tremaining: 363ms\n",
      "51:\tlearn: 1072.8019432\ttotal: 384ms\tremaining: 355ms\n",
      "52:\tlearn: 1072.7847911\ttotal: 394ms\tremaining: 349ms\n",
      "53:\tlearn: 1072.5083849\ttotal: 400ms\tremaining: 341ms\n",
      "54:\tlearn: 1072.3223501\ttotal: 407ms\tremaining: 333ms\n",
      "55:\tlearn: 1072.2388300\ttotal: 413ms\tremaining: 324ms\n",
      "56:\tlearn: 1072.2137922\ttotal: 419ms\tremaining: 316ms\n",
      "57:\tlearn: 1072.2137596\ttotal: 424ms\tremaining: 307ms\n",
      "58:\tlearn: 1072.2073896\ttotal: 431ms\tremaining: 300ms\n",
      "59:\tlearn: 1071.8996382\ttotal: 438ms\tremaining: 292ms\n",
      "60:\tlearn: 1071.8619392\ttotal: 447ms\tremaining: 286ms\n",
      "61:\tlearn: 1071.8603522\ttotal: 457ms\tremaining: 280ms\n",
      "62:\tlearn: 1071.4962780\ttotal: 464ms\tremaining: 272ms\n",
      "63:\tlearn: 1071.0511702\ttotal: 470ms\tremaining: 264ms\n",
      "64:\tlearn: 1071.0375224\ttotal: 477ms\tremaining: 257ms\n",
      "65:\tlearn: 1070.8476176\ttotal: 483ms\tremaining: 249ms\n",
      "66:\tlearn: 1070.7938252\ttotal: 489ms\tremaining: 241ms\n",
      "67:\tlearn: 1070.5883042\ttotal: 495ms\tremaining: 233ms\n",
      "68:\tlearn: 1070.5796090\ttotal: 503ms\tremaining: 226ms\n",
      "69:\tlearn: 1070.5785499\ttotal: 511ms\tremaining: 219ms\n",
      "70:\tlearn: 1070.5721013\ttotal: 518ms\tremaining: 211ms\n",
      "71:\tlearn: 1070.5148414\ttotal: 525ms\tremaining: 204ms\n",
      "72:\tlearn: 1070.5008858\ttotal: 532ms\tremaining: 197ms\n",
      "73:\tlearn: 1070.5001642\ttotal: 539ms\tremaining: 189ms\n",
      "74:\tlearn: 1070.4879957\ttotal: 545ms\tremaining: 182ms\n",
      "75:\tlearn: 1070.4090651\ttotal: 552ms\tremaining: 174ms\n",
      "76:\tlearn: 1070.4089958\ttotal: 558ms\tremaining: 167ms\n",
      "77:\tlearn: 1070.0115250\ttotal: 564ms\tremaining: 159ms\n",
      "78:\tlearn: 1069.9007772\ttotal: 570ms\tremaining: 152ms\n",
      "79:\tlearn: 1069.3306638\ttotal: 576ms\tremaining: 144ms\n",
      "80:\tlearn: 1069.2800822\ttotal: 587ms\tremaining: 138ms\n",
      "81:\tlearn: 1069.2768867\ttotal: 593ms\tremaining: 130ms\n",
      "82:\tlearn: 1069.2371577\ttotal: 606ms\tremaining: 124ms\n",
      "83:\tlearn: 1068.9618774\ttotal: 612ms\tremaining: 117ms\n",
      "84:\tlearn: 1068.4971815\ttotal: 626ms\tremaining: 111ms\n",
      "85:\tlearn: 1068.4834858\ttotal: 632ms\tremaining: 103ms\n",
      "86:\tlearn: 1068.4718309\ttotal: 638ms\tremaining: 95.3ms\n",
      "87:\tlearn: 1068.4511386\ttotal: 644ms\tremaining: 87.9ms\n",
      "88:\tlearn: 1068.2366679\ttotal: 651ms\tremaining: 80.5ms\n",
      "89:\tlearn: 1068.1981447\ttotal: 657ms\tremaining: 73ms\n",
      "90:\tlearn: 1068.1978760\ttotal: 664ms\tremaining: 65.6ms\n",
      "91:\tlearn: 1067.9987887\ttotal: 680ms\tremaining: 59.1ms\n",
      "92:\tlearn: 1067.9969908\ttotal: 687ms\tremaining: 51.7ms\n",
      "93:\tlearn: 1067.6881972\ttotal: 696ms\tremaining: 44.4ms\n",
      "94:\tlearn: 1067.6216244\ttotal: 711ms\tremaining: 37.4ms\n",
      "95:\tlearn: 1067.6208899\ttotal: 719ms\tremaining: 30ms\n",
      "96:\tlearn: 1067.2466296\ttotal: 726ms\tremaining: 22.4ms\n",
      "97:\tlearn: 1067.2456593\ttotal: 732ms\tremaining: 14.9ms\n",
      "98:\tlearn: 1067.2393855\ttotal: 738ms\tremaining: 7.46ms\n",
      "99:\tlearn: 1066.5981824\ttotal: 750ms\tremaining: 0us\n",
      "[13:09:14] WARNING: C:/Jenkins/workspace/xgboost-win64_release_0.90/src/objective/regression_obj.cu:152: reg:linear is now deprecated in favor of reg:squarederror.\n"
     ]
    },
    {
     "data": {
      "text/plain": [
       "Pipeline(memory=None,\n",
       "         steps=[('ensemble',\n",
       "                 FeatureUnion(n_jobs=None,\n",
       "                              transformer_list=[('xgb',\n",
       "                                                 Pipeline(memory=None,\n",
       "                                                          steps=[('transform',\n",
       "                                                                  FeatureUnion(n_jobs=None,\n",
       "                                                                               transformer_list=[('categorical',\n",
       "                                                                                                  Pipeline(memory=None,\n",
       "                                                                                                           steps=[('sales_transform',\n",
       "                                                                                                                   SalesTransformer()),\n",
       "                                                                                                                  ('ext',\n",
       "                                                                                                                   Extract()),\n",
       "                                                                                                                  ('label_en',\n",
       "                                                                                                                   OrdinalEncoder(categories='auto',\n",
       "                                                                                                                                  dtype=<class 'numpy.float64'>)),...\n",
       "                              colsample_bylevel=1, colsample_bynode=1,\n",
       "                              colsample_bytree=1, gamma=0,\n",
       "                              importance_type='gain', learning_rate=0.1,\n",
       "                              max_delta_step=0, max_depth=3, min_child_weight=1,\n",
       "                              missing=None, n_estimators=100, n_jobs=1,\n",
       "                              nthread=None, objective='reg:linear',\n",
       "                              random_state=0, reg_alpha=0, reg_lambda=1,\n",
       "                              scale_pos_weight=1, seed=None, silent=None,\n",
       "                              subsample=1, verbosity=1))],\n",
       "         verbose=False)"
      ]
     },
     "execution_count": 437,
     "metadata": {},
     "output_type": "execute_result"
    }
   ],
   "source": [
    "linear_ensemble.fit(X,outlet_sales)"
   ]
  },
  {
   "cell_type": "markdown",
   "metadata": {},
   "source": [
    "# Predicting values for tournament test set"
   ]
  },
  {
   "cell_type": "code",
   "execution_count": 344,
   "metadata": {},
   "outputs": [],
   "source": [
    "sales_test = pd.read_csv('sales_test.csv')"
   ]
  },
  {
   "cell_type": "code",
   "execution_count": 345,
   "metadata": {},
   "outputs": [
    {
     "data": {
      "text/html": [
       "<div>\n",
       "<style scoped>\n",
       "    .dataframe tbody tr th:only-of-type {\n",
       "        vertical-align: middle;\n",
       "    }\n",
       "\n",
       "    .dataframe tbody tr th {\n",
       "        vertical-align: top;\n",
       "    }\n",
       "\n",
       "    .dataframe thead th {\n",
       "        text-align: right;\n",
       "    }\n",
       "</style>\n",
       "<table border=\"1\" class=\"dataframe\">\n",
       "  <thead>\n",
       "    <tr style=\"text-align: right;\">\n",
       "      <th></th>\n",
       "      <th>Item_Identifier</th>\n",
       "      <th>Item_Weight</th>\n",
       "      <th>Item_Fat_Content</th>\n",
       "      <th>Item_Visibility</th>\n",
       "      <th>Item_Type</th>\n",
       "      <th>Item_MRP</th>\n",
       "      <th>Outlet_Identifier</th>\n",
       "      <th>Outlet_Establishment_Year</th>\n",
       "      <th>Outlet_Size</th>\n",
       "      <th>Outlet_Location_Type</th>\n",
       "      <th>Outlet_Type</th>\n",
       "    </tr>\n",
       "  </thead>\n",
       "  <tbody>\n",
       "    <tr>\n",
       "      <th>0</th>\n",
       "      <td>FDW58</td>\n",
       "      <td>20.750</td>\n",
       "      <td>Low Fat</td>\n",
       "      <td>0.007565</td>\n",
       "      <td>Snack Foods</td>\n",
       "      <td>107.8622</td>\n",
       "      <td>OUT049</td>\n",
       "      <td>1999</td>\n",
       "      <td>Medium</td>\n",
       "      <td>Tier 1</td>\n",
       "      <td>Supermarket Type1</td>\n",
       "    </tr>\n",
       "    <tr>\n",
       "      <th>1</th>\n",
       "      <td>FDW14</td>\n",
       "      <td>8.300</td>\n",
       "      <td>reg</td>\n",
       "      <td>0.038428</td>\n",
       "      <td>Dairy</td>\n",
       "      <td>87.3198</td>\n",
       "      <td>OUT017</td>\n",
       "      <td>2007</td>\n",
       "      <td>NaN</td>\n",
       "      <td>Tier 2</td>\n",
       "      <td>Supermarket Type1</td>\n",
       "    </tr>\n",
       "    <tr>\n",
       "      <th>2</th>\n",
       "      <td>NCN55</td>\n",
       "      <td>14.600</td>\n",
       "      <td>Low Fat</td>\n",
       "      <td>0.099575</td>\n",
       "      <td>Others</td>\n",
       "      <td>241.7538</td>\n",
       "      <td>OUT010</td>\n",
       "      <td>1998</td>\n",
       "      <td>NaN</td>\n",
       "      <td>Tier 3</td>\n",
       "      <td>Grocery Store</td>\n",
       "    </tr>\n",
       "    <tr>\n",
       "      <th>3</th>\n",
       "      <td>FDQ58</td>\n",
       "      <td>7.315</td>\n",
       "      <td>Low Fat</td>\n",
       "      <td>0.015388</td>\n",
       "      <td>Snack Foods</td>\n",
       "      <td>155.0340</td>\n",
       "      <td>OUT017</td>\n",
       "      <td>2007</td>\n",
       "      <td>NaN</td>\n",
       "      <td>Tier 2</td>\n",
       "      <td>Supermarket Type1</td>\n",
       "    </tr>\n",
       "    <tr>\n",
       "      <th>4</th>\n",
       "      <td>FDY38</td>\n",
       "      <td>NaN</td>\n",
       "      <td>Regular</td>\n",
       "      <td>0.118599</td>\n",
       "      <td>Dairy</td>\n",
       "      <td>234.2300</td>\n",
       "      <td>OUT027</td>\n",
       "      <td>1985</td>\n",
       "      <td>Medium</td>\n",
       "      <td>Tier 3</td>\n",
       "      <td>Supermarket Type3</td>\n",
       "    </tr>\n",
       "  </tbody>\n",
       "</table>\n",
       "</div>"
      ],
      "text/plain": [
       "  Item_Identifier  Item_Weight Item_Fat_Content  Item_Visibility    Item_Type  \\\n",
       "0           FDW58       20.750          Low Fat         0.007565  Snack Foods   \n",
       "1           FDW14        8.300              reg         0.038428        Dairy   \n",
       "2           NCN55       14.600          Low Fat         0.099575       Others   \n",
       "3           FDQ58        7.315          Low Fat         0.015388  Snack Foods   \n",
       "4           FDY38          NaN          Regular         0.118599        Dairy   \n",
       "\n",
       "   Item_MRP Outlet_Identifier  Outlet_Establishment_Year Outlet_Size  \\\n",
       "0  107.8622            OUT049                       1999      Medium   \n",
       "1   87.3198            OUT017                       2007         NaN   \n",
       "2  241.7538            OUT010                       1998         NaN   \n",
       "3  155.0340            OUT017                       2007         NaN   \n",
       "4  234.2300            OUT027                       1985      Medium   \n",
       "\n",
       "  Outlet_Location_Type        Outlet_Type  \n",
       "0               Tier 1  Supermarket Type1  \n",
       "1               Tier 2  Supermarket Type1  \n",
       "2               Tier 3      Grocery Store  \n",
       "3               Tier 2  Supermarket Type1  \n",
       "4               Tier 3  Supermarket Type3  "
      ]
     },
     "execution_count": 345,
     "metadata": {},
     "output_type": "execute_result"
    }
   ],
   "source": [
    "sales_test.head()"
   ]
  },
  {
   "cell_type": "code",
   "execution_count": 346,
   "metadata": {},
   "outputs": [],
   "source": [
    "sales_test = sales_test.apply(fillnull, axis=1)"
   ]
  },
  {
   "cell_type": "code",
   "execution_count": 439,
   "metadata": {},
   "outputs": [],
   "source": [
    "\n",
    "sales_test['Item_Fat_Content']  = sales_test['Item_Fat_Content'].apply(change_fat)\n",
    "sales_pred_xgb = xgb.predict(sales_test)"
   ]
  },
  {
   "cell_type": "code",
   "execution_count": 348,
   "metadata": {},
   "outputs": [
    {
     "data": {
      "text/plain": [
       "array([1669.5717 , 1375.9305 ,  682.64716, ..., 1888.9822 , 3453.1846 ,\n",
       "       1307.2151 ], dtype=float32)"
      ]
     },
     "execution_count": 348,
     "metadata": {},
     "output_type": "execute_result"
    }
   ],
   "source": [
    "sales_pred_xgb"
   ]
  },
  {
   "cell_type": "code",
   "execution_count": 440,
   "metadata": {},
   "outputs": [
    {
     "data": {
      "text/plain": [
       "array([1653.2157 , 1357.3024 ,  610.53754, ..., 1896.2495 , 3341.6409 ,\n",
       "       1355.5026 ], dtype=float32)"
      ]
     },
     "execution_count": 440,
     "metadata": {},
     "output_type": "execute_result"
    }
   ],
   "source": [
    "sales_ensemble = linear_ensemble.predict(sales_test)\n",
    "sales_ensemble"
   ]
  },
  {
   "cell_type": "code",
   "execution_count": 350,
   "metadata": {},
   "outputs": [
    {
     "data": {
      "text/plain": [
       "array([1572.84675173, 1299.76349277,  558.51463586, ..., 1976.04932978,\n",
       "       3369.13213781, 1268.9718664 ])"
      ]
     },
     "execution_count": 350,
     "metadata": {},
     "output_type": "execute_result"
    }
   ],
   "source": [
    "catboost_result = catboost_pipe.predict(sales_test)\n",
    "catboost_result"
   ]
  },
  {
   "cell_type": "code",
   "execution_count": 441,
   "metadata": {},
   "outputs": [],
   "source": [
    "ensemble_result = pd.DataFrame({'Item_Identifier' : sales_test['Item_Identifier'],\n",
    "                      'Outlet_Identifier' : sales_test['Outlet_Identifier'],\n",
    "                      'Item_Outlet_Sales' : sales_ensemble})\n",
    "\n",
    "xgb_result = pd.DataFrame({'Item_Identifier' : sales_test['Item_Identifier'],\n",
    "                      'Outlet_Identifier' : sales_test['Outlet_Identifier'],\n",
    "                      'Item_Outlet_Sales' : sales_pred_xgb})"
   ]
  },
  {
   "cell_type": "code",
   "execution_count": 442,
   "metadata": {},
   "outputs": [
    {
     "data": {
      "text/html": [
       "<div>\n",
       "<style scoped>\n",
       "    .dataframe tbody tr th:only-of-type {\n",
       "        vertical-align: middle;\n",
       "    }\n",
       "\n",
       "    .dataframe tbody tr th {\n",
       "        vertical-align: top;\n",
       "    }\n",
       "\n",
       "    .dataframe thead th {\n",
       "        text-align: right;\n",
       "    }\n",
       "</style>\n",
       "<table border=\"1\" class=\"dataframe\">\n",
       "  <thead>\n",
       "    <tr style=\"text-align: right;\">\n",
       "      <th></th>\n",
       "      <th>Item_Identifier</th>\n",
       "      <th>Outlet_Identifier</th>\n",
       "      <th>Item_Outlet_Sales</th>\n",
       "    </tr>\n",
       "  </thead>\n",
       "  <tbody>\n",
       "    <tr>\n",
       "      <th>0</th>\n",
       "      <td>FDW58</td>\n",
       "      <td>OUT049</td>\n",
       "      <td>1653.215698</td>\n",
       "    </tr>\n",
       "    <tr>\n",
       "      <th>1</th>\n",
       "      <td>FDW14</td>\n",
       "      <td>OUT017</td>\n",
       "      <td>1357.302368</td>\n",
       "    </tr>\n",
       "    <tr>\n",
       "      <th>2</th>\n",
       "      <td>NCN55</td>\n",
       "      <td>OUT010</td>\n",
       "      <td>610.537537</td>\n",
       "    </tr>\n",
       "    <tr>\n",
       "      <th>3</th>\n",
       "      <td>FDQ58</td>\n",
       "      <td>OUT017</td>\n",
       "      <td>2477.783936</td>\n",
       "    </tr>\n",
       "    <tr>\n",
       "      <th>4</th>\n",
       "      <td>FDY38</td>\n",
       "      <td>OUT027</td>\n",
       "      <td>5355.993164</td>\n",
       "    </tr>\n",
       "  </tbody>\n",
       "</table>\n",
       "</div>"
      ],
      "text/plain": [
       "  Item_Identifier Outlet_Identifier  Item_Outlet_Sales\n",
       "0           FDW58            OUT049        1653.215698\n",
       "1           FDW14            OUT017        1357.302368\n",
       "2           NCN55            OUT010         610.537537\n",
       "3           FDQ58            OUT017        2477.783936\n",
       "4           FDY38            OUT027        5355.993164"
      ]
     },
     "execution_count": 442,
     "metadata": {},
     "output_type": "execute_result"
    }
   ],
   "source": [
    "ensemble_result.head()"
   ]
  },
  {
   "cell_type": "code",
   "execution_count": 443,
   "metadata": {},
   "outputs": [],
   "source": [
    "ensemble_result.set_index('Item_Identifier', inplace= True)\n",
    "xgb_result.set_index('Item_Identifier', inplace = True)"
   ]
  },
  {
   "cell_type": "code",
   "execution_count": 444,
   "metadata": {},
   "outputs": [],
   "source": [
    "ensemble_result.to_csv('ensemble_resultcat.csv')\n",
    "xgb_result.to_csv('xgb_result2.csv')"
   ]
  },
  {
   "cell_type": "code",
   "execution_count": 355,
   "metadata": {},
   "outputs": [],
   "source": [
    "catboost_result = pd.DataFrame({'Item_Identifier' : sales_test['Item_Identifier'],\n",
    "                      'Outlet_Identifier' : sales_test['Outlet_Identifier'],\n",
    "                      'Item_Outlet_Sales' : catboost_result})"
   ]
  },
  {
   "cell_type": "code",
   "execution_count": 356,
   "metadata": {},
   "outputs": [],
   "source": [
    "catboost_result.set_index('Item_Identifier', inplace = True)"
   ]
  },
  {
   "cell_type": "code",
   "execution_count": 357,
   "metadata": {},
   "outputs": [],
   "source": [
    "catboost_result.to_csv('catboost_result.csv')"
   ]
  },
  {
   "cell_type": "code",
   "execution_count": 553,
   "metadata": {},
   "outputs": [
    {
     "data": {
      "text/html": [
       "<div>\n",
       "<style scoped>\n",
       "    .dataframe tbody tr th:only-of-type {\n",
       "        vertical-align: middle;\n",
       "    }\n",
       "\n",
       "    .dataframe tbody tr th {\n",
       "        vertical-align: top;\n",
       "    }\n",
       "\n",
       "    .dataframe thead th {\n",
       "        text-align: right;\n",
       "    }\n",
       "</style>\n",
       "<table border=\"1\" class=\"dataframe\">\n",
       "  <thead>\n",
       "    <tr style=\"text-align: right;\">\n",
       "      <th></th>\n",
       "      <th>Item_Identifier</th>\n",
       "      <th>Outlet_Identifier</th>\n",
       "      <th>Item_Outlet_Sales</th>\n",
       "    </tr>\n",
       "  </thead>\n",
       "  <tbody>\n",
       "    <tr>\n",
       "      <th>0</th>\n",
       "      <td>FDW58</td>\n",
       "      <td>OUT049</td>\n",
       "      <td>1684.7164</td>\n",
       "    </tr>\n",
       "    <tr>\n",
       "      <th>1</th>\n",
       "      <td>FDW14</td>\n",
       "      <td>OUT017</td>\n",
       "      <td>1454.3094</td>\n",
       "    </tr>\n",
       "    <tr>\n",
       "      <th>2</th>\n",
       "      <td>NCN55</td>\n",
       "      <td>OUT010</td>\n",
       "      <td>706.9567</td>\n",
       "    </tr>\n",
       "    <tr>\n",
       "      <th>3</th>\n",
       "      <td>FDQ58</td>\n",
       "      <td>OUT017</td>\n",
       "      <td>2484.2444</td>\n",
       "    </tr>\n",
       "    <tr>\n",
       "      <th>4</th>\n",
       "      <td>FDY38</td>\n",
       "      <td>OUT027</td>\n",
       "      <td>6091.6323</td>\n",
       "    </tr>\n",
       "  </tbody>\n",
       "</table>\n",
       "</div>"
      ],
      "text/plain": [
       "  Item_Identifier Outlet_Identifier  Item_Outlet_Sales\n",
       "0           FDW58            OUT049          1684.7164\n",
       "1           FDW14            OUT017          1454.3094\n",
       "2           NCN55            OUT010           706.9567\n",
       "3           FDQ58            OUT017          2484.2444\n",
       "4           FDY38            OUT027          6091.6323"
      ]
     },
     "execution_count": 553,
     "metadata": {},
     "output_type": "execute_result"
    }
   ],
   "source": [
    "avg = pd.read_csv('average_result.csv')\n",
    "#avg.set_index('Item_Identifier',inplace=True)\n",
    "#avg.reset_index(inplace=True)\n",
    "avg.head()"
   ]
  },
  {
   "cell_type": "code",
   "execution_count": 554,
   "metadata": {},
   "outputs": [],
   "source": [
    "avg_result = pd.DataFrame({'Item_Identifier' : avg['Item_Identifier'],\n",
    "                      'Outlet_Identifier' : avg['Outlet_Identifier'],\n",
    "                      'Item_Outlet_Sales' : avg['Item_Outlet_Sales']})"
   ]
  },
  {
   "cell_type": "code",
   "execution_count": 555,
   "metadata": {},
   "outputs": [],
   "source": [
    "avg_result.set_index('Item_Identifier',inplace=True)"
   ]
  },
  {
   "cell_type": "code",
   "execution_count": 556,
   "metadata": {},
   "outputs": [],
   "source": [
    "avg_result.to_csv('average_result.csv ')"
   ]
  }
 ],
 "metadata": {
  "kernelspec": {
   "display_name": "Python 3",
   "language": "python",
   "name": "python3"
  },
  "language_info": {
   "codemirror_mode": {
    "name": "ipython",
    "version": 3
   },
   "file_extension": ".py",
   "mimetype": "text/x-python",
   "name": "python",
   "nbconvert_exporter": "python",
   "pygments_lexer": "ipython3",
   "version": "3.7.6"
  }
 },
 "nbformat": 4,
 "nbformat_minor": 4
}
